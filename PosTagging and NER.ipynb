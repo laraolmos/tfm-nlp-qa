{
 "cells": [
  {
   "cell_type": "markdown",
   "metadata": {},
   "source": [
    "# PosTagging and Named Entity Recognition (NER)"
   ]
  },
  {
   "cell_type": "markdown",
   "metadata": {},
   "source": [
    "We consider some texts from QA SQuAD collection to annotate for its characterization with PosTagging and Named Entity Reconigtion (NER) open source frameworks: treetagger, Stanford CoreNLP, spacy, stanza"
   ]
  },
  {
   "cell_type": "markdown",
   "metadata": {},
   "source": [
    "### Example texts"
   ]
  },
  {
   "cell_type": "code",
   "execution_count": 1,
   "metadata": {},
   "outputs": [],
   "source": [
    "question_example = 'When was the Tower Theatre built?'\n",
    "response_example = '1939'\n",
    "context_example = 'The popular neighborhood known as the Tower District is centered around the historic Tower Theatre, which is included on the National List of Historic Places. The theater was built in 1939 and is at Olive and Wishon Avenues in the heart of the Tower District. (The name of the theater refers to a well-known landmark water tower, which is actually in another nearby area). The Tower District neighborhood is just north of downtown Fresno proper, and one-half mile south of Fresno City College. Although the neighborhood was known as a residential area prior, the early commercial establishments of the Tower District began with small shops and services that flocked to the area shortly after World War II. The character of small local businesses largely remains today. To some extent, the businesses of the Tower District were developed due to the proximity of the original Fresno Normal School, (later renamed California State University at Fresno). In 1916 the college moved to what is now the site of Fresno City College one-half mile north of the Tower District.'"
   ]
  },
  {
   "cell_type": "code",
   "execution_count": 2,
   "metadata": {},
   "outputs": [],
   "source": [
    "amazon_context_example= \"The Amazon rainforest (Portuguese: Floresta Amazônica or Amazônia; Spanish: Selva Amazónica, Amazonía or usually Amazonia; French: Forêt amazonienne; Dutch: Amazoneregenwoud), also known in English as Amazonia or the Amazon Jungle, is a moist broadleaf forest that covers most of the Amazon basin of South America. This basin encompasses 7,000,000 square kilometres (2,700,000 sq mi), of which 5,500,000 square kilometres (2,100,000 sq mi) are covered by the rainforest. This region includes territory belonging to nine nations. The majority of the forest is contained within Brazil, with 60% of the rainforest, followed by Peru with 13%, Colombia with 10%, and with minor amounts in Venezuela, Ecuador, Bolivia, Guyana, Suriname and French Guiana. States or departments in four nations contain 'Amazonas' in their names. The Amazon represents over half of the planet's remaining rainforests, and comprises the largest and most biodiverse tract of tropical rainforest in the world, with an estimated 390 billion individual trees divided into 16,000 species.\""
   ]
  },
  {
   "cell_type": "code",
   "execution_count": 3,
   "metadata": {},
   "outputs": [],
   "source": [
    "beyonce_context= 'In August, the couple attended the 2011 MTV Video Music Awards, at which Beyoncé performed \"Love on Top\" and started the performance saying \"Tonight I want you to stand up on your feet, I want you to feel the love that\\'s growing inside of me\". At the end of the performance, she dropped her microphone, unbuttoned her blazer and rubbed her stomach, confirming her pregnancy she had alluded to earlier in the evening. Her appearance helped that year\\'s MTV Video Music Awards become the most-watched broadcast in MTV history, pulling in 12.4 million viewers; the announcement was listed in Guinness World Records for \"most tweets per second recorded for a single event\" on Twitter, receiving 8,868 tweets per second and \"Beyonce pregnant\" was the most Googled term the week of August 29, 2011.'"
   ]
  },
  {
   "cell_type": "markdown",
   "metadata": {},
   "source": [
    "### PosTagging"
   ]
  },
  {
   "cell_type": "markdown",
   "metadata": {},
   "source": [
    "#### TreeTagger"
   ]
  },
  {
   "cell_type": "code",
   "execution_count": 4,
   "metadata": {},
   "outputs": [
    {
     "name": "stderr",
     "output_type": "stream",
     "text": [
      "c:\\users\\larao_000\\appdata\\local\\programs\\python\\python37\\lib\\site-packages\\treetaggerwrapper.py:740: FutureWarning: Possible nested set at position 8\n",
      "  re.IGNORECASE | re.VERBOSE)\n",
      "c:\\users\\larao_000\\appdata\\local\\programs\\python\\python37\\lib\\site-packages\\treetaggerwrapper.py:2044: FutureWarning: Possible nested set at position 152\n",
      "  re.VERBOSE | re.IGNORECASE)\n",
      "c:\\users\\larao_000\\appdata\\local\\programs\\python\\python37\\lib\\site-packages\\treetaggerwrapper.py:2067: FutureWarning: Possible nested set at position 409\n",
      "  UrlMatch_re = re.compile(UrlMatch_expression, re.VERBOSE | re.IGNORECASE)\n",
      "c:\\users\\larao_000\\appdata\\local\\programs\\python\\python37\\lib\\site-packages\\treetaggerwrapper.py:2079: FutureWarning: Possible nested set at position 192\n",
      "  EmailMatch_re = re.compile(EmailMatch_expression, re.VERBOSE | re.IGNORECASE)\n"
     ]
    }
   ],
   "source": [
    "# https://www.cis.uni-muenchen.de/~schmid/tools/TreeTagger/\n",
    "import treetaggerwrapper"
   ]
  },
  {
   "cell_type": "code",
   "execution_count": 5,
   "metadata": {},
   "outputs": [],
   "source": [
    "tagger = treetaggerwrapper.TreeTagger(TAGLANG='en', TAGDIR='C:\\\\Users\\\\larao_000\\\\Documents\\\\nlp\\\\tree-tagger-windows-3.2.3\\\\TreeTagger\\\\')"
   ]
  },
  {
   "cell_type": "code",
   "execution_count": 6,
   "metadata": {},
   "outputs": [],
   "source": [
    "def pos_tagging(text, max_length=1000):\n",
    "    results = []\n",
    "    for i in range(0, len(text), max_length):\n",
    "        partial_text = text[i:i+max_length]\n",
    "        tags = tagger.tag_text(partial_text)\n",
    "        results += treetaggerwrapper.make_tags(tags)\n",
    "    return results"
   ]
  },
  {
   "cell_type": "code",
   "execution_count": 7,
   "metadata": {},
   "outputs": [
    {
     "name": "stdout",
     "output_type": "stream",
     "text": [
      "Wall time: 575 ms\n"
     ]
    },
    {
     "data": {
      "text/plain": [
       "[Tag(word='When', pos='WRB', lemma='when'),\n",
       " Tag(word='was', pos='VBD', lemma='be'),\n",
       " Tag(word='the', pos='DT', lemma='the'),\n",
       " Tag(word='Tower', pos='NP', lemma='Tower'),\n",
       " Tag(word='Theatre', pos='NP', lemma='Theatre'),\n",
       " Tag(word='built', pos='VVD', lemma='build'),\n",
       " Tag(word='?', pos='SENT', lemma='?')]"
      ]
     },
     "execution_count": 7,
     "metadata": {},
     "output_type": "execute_result"
    }
   ],
   "source": [
    "%%time\n",
    "pos_tagging(question_example)"
   ]
  },
  {
   "cell_type": "code",
   "execution_count": 8,
   "metadata": {},
   "outputs": [
    {
     "name": "stdout",
     "output_type": "stream",
     "text": [
      "Wall time: 2 ms\n"
     ]
    },
    {
     "data": {
      "text/plain": [
       "[Tag(word='1939', pos='LS', lemma='@card@')]"
      ]
     },
     "execution_count": 8,
     "metadata": {},
     "output_type": "execute_result"
    }
   ],
   "source": [
    "%%time\n",
    "pos_tagging(response_example)"
   ]
  },
  {
   "cell_type": "code",
   "execution_count": 9,
   "metadata": {},
   "outputs": [
    {
     "name": "stdout",
     "output_type": "stream",
     "text": [
      "[Tag(word='Which', pos='WDT', lemma='which'), Tag(word='name', pos='NN', lemma='name'), Tag(word='is', pos='VBZ', lemma='be'), Tag(word='also', pos='RB', lemma='also'), Tag(word='used', pos='VVN', lemma='use'), Tag(word='to', pos='TO', lemma='to'), Tag(word='describe', pos='VV', lemma='describe'), Tag(word='the', pos='DT', lemma='the'), Tag(word='Amazon', pos='NP', lemma='Amazon'), Tag(word='rainforest', pos='NN', lemma='rainforest'), Tag(word='in', pos='IN', lemma='in'), Tag(word='English', pos='NP', lemma='English'), Tag(word='?', pos='SENT', lemma='?')]\n",
      "[Tag(word='also', pos='RB', lemma='also'), Tag(word='known', pos='VVN', lemma='know'), Tag(word='in', pos='IN', lemma='in'), Tag(word='English', pos='NP', lemma='English'), Tag(word='as', pos='IN', lemma='as'), Tag(word='Amazonia', pos='NP', lemma='Amazonia'), Tag(word='or', pos='CC', lemma='or'), Tag(word='the', pos='DT', lemma='the'), Tag(word='Amazon', pos='NP', lemma='Amazon'), Tag(word='Jungle', pos='NN', lemma='jungle'), Tag(word=',', pos=',', lemma=',')]\n"
     ]
    }
   ],
   "source": [
    "print(pos_tagging('Which name is also used to describe the Amazon rainforest in English?'))\n",
    "print(pos_tagging('also known in English as Amazonia or the Amazon Jungle,'))"
   ]
  },
  {
   "cell_type": "code",
   "execution_count": 10,
   "metadata": {},
   "outputs": [
    {
     "name": "stdout",
     "output_type": "stream",
     "text": [
      "[Tag(word='Jay', pos='NP', lemma='Jay'), Tag(word='Z', pos='NP', lemma='Z'), Tag(word='and', pos='CC', lemma='and'), Tag(word='Beyonce', pos='NP', lemma='Beyonce'), Tag(word='attended', pos='VVN', lemma='attend'), Tag(word='which', pos='WDT', lemma='which'), Tag(word='event', pos='NN', lemma='event'), Tag(word='together', pos='RB', lemma='together'), Tag(word='in', pos='IN', lemma='in'), Tag(word='August', pos='NP', lemma='August'), Tag(word='of', pos='IN', lemma='of'), Tag(word='2011', pos='CD', lemma='@card@'), Tag(word='?', pos='SENT', lemma='?')]\n",
      "[Tag(word='MTV', pos='NP', lemma='MTV'), Tag(word='Video', pos='NP', lemma='Video'), Tag(word='Music', pos='NP', lemma='Music'), Tag(word='Awards', pos='VVZ', lemma='award')]\n"
     ]
    }
   ],
   "source": [
    "print(pos_tagging('Jay Z and Beyonce attended which event together in August of 2011?'))\n",
    "print(pos_tagging('MTV Video Music Awards'))"
   ]
  },
  {
   "cell_type": "code",
   "execution_count": 11,
   "metadata": {},
   "outputs": [
    {
     "name": "stdout",
     "output_type": "stream",
     "text": [
      "Wall time: 17 ms\n"
     ]
    },
    {
     "data": {
      "text/plain": [
       "[Tag(word='The', pos='DT', lemma='the'),\n",
       " Tag(word='popular', pos='JJ', lemma='popular'),\n",
       " Tag(word='neighborhood', pos='NN', lemma='neighborhood'),\n",
       " Tag(word='known', pos='VVN', lemma='know'),\n",
       " Tag(word='as', pos='IN', lemma='as'),\n",
       " Tag(word='the', pos='DT', lemma='the'),\n",
       " Tag(word='Tower', pos='NP', lemma='Tower'),\n",
       " Tag(word='District', pos='NP', lemma='District'),\n",
       " Tag(word='is', pos='VBZ', lemma='be'),\n",
       " Tag(word='centered', pos='VVN', lemma='center'),\n",
       " Tag(word='around', pos='IN', lemma='around'),\n",
       " Tag(word='the', pos='DT', lemma='the'),\n",
       " Tag(word='historic', pos='JJ', lemma='historic'),\n",
       " Tag(word='Tower', pos='NP', lemma='Tower'),\n",
       " Tag(word='Theatre', pos='NP', lemma='Theatre'),\n",
       " Tag(word=',', pos=',', lemma=','),\n",
       " Tag(word='which', pos='WDT', lemma='which'),\n",
       " Tag(word='is', pos='VBZ', lemma='be'),\n",
       " Tag(word='included', pos='VVN', lemma='include'),\n",
       " Tag(word='on', pos='IN', lemma='on'),\n",
       " Tag(word='the', pos='DT', lemma='the'),\n",
       " Tag(word='National', pos='NP', lemma='National'),\n",
       " Tag(word='List', pos='NP', lemma='List'),\n",
       " Tag(word='of', pos='IN', lemma='of'),\n",
       " Tag(word='Historic', pos='JJ', lemma='historic'),\n",
       " Tag(word='Places', pos='NNS', lemma='place'),\n",
       " Tag(word='.', pos='SENT', lemma='.'),\n",
       " Tag(word='The', pos='DT', lemma='the'),\n",
       " Tag(word='theater', pos='NN', lemma='theater'),\n",
       " Tag(word='was', pos='VBD', lemma='be'),\n",
       " Tag(word='built', pos='VVN', lemma='build'),\n",
       " Tag(word='in', pos='IN', lemma='in'),\n",
       " Tag(word='1939', pos='CD', lemma='@card@'),\n",
       " Tag(word='and', pos='CC', lemma='and'),\n",
       " Tag(word='is', pos='VBZ', lemma='be'),\n",
       " Tag(word='at', pos='IN', lemma='at'),\n",
       " Tag(word='Olive', pos='NP', lemma='Olive'),\n",
       " Tag(word='and', pos='CC', lemma='and'),\n",
       " Tag(word='Wishon', pos='NP', lemma='Wishon'),\n",
       " Tag(word='Avenues', pos='NNS', lemma='avenue'),\n",
       " Tag(word='in', pos='IN', lemma='in'),\n",
       " Tag(word='the', pos='DT', lemma='the'),\n",
       " Tag(word='heart', pos='NN', lemma='heart'),\n",
       " Tag(word='of', pos='IN', lemma='of'),\n",
       " Tag(word='the', pos='DT', lemma='the'),\n",
       " Tag(word='Tower', pos='NP', lemma='Tower'),\n",
       " Tag(word='District', pos='NP', lemma='District'),\n",
       " Tag(word='.', pos='SENT', lemma='.'),\n",
       " Tag(word='(', pos='(', lemma='('),\n",
       " Tag(word='The', pos='DT', lemma='the'),\n",
       " Tag(word='name', pos='NN', lemma='name'),\n",
       " Tag(word='of', pos='IN', lemma='of'),\n",
       " Tag(word='the', pos='DT', lemma='the'),\n",
       " Tag(word='theater', pos='NN', lemma='theater'),\n",
       " Tag(word='refers', pos='VVZ', lemma='refer'),\n",
       " Tag(word='to', pos='TO', lemma='to'),\n",
       " Tag(word='a', pos='DT', lemma='a'),\n",
       " Tag(word='well-known', pos='JJ', lemma='well-known'),\n",
       " Tag(word='landmark', pos='NN', lemma='landmark'),\n",
       " Tag(word='water', pos='NN', lemma='water'),\n",
       " Tag(word='tower', pos='NN', lemma='tower'),\n",
       " Tag(word=',', pos=',', lemma=','),\n",
       " Tag(word='which', pos='WDT', lemma='which'),\n",
       " Tag(word='is', pos='VBZ', lemma='be'),\n",
       " Tag(word='actually', pos='RB', lemma='actually'),\n",
       " Tag(word='in', pos='IN', lemma='in'),\n",
       " Tag(word='another', pos='DT', lemma='another'),\n",
       " Tag(word='nearby', pos='JJ', lemma='nearby'),\n",
       " Tag(word='area', pos='NN', lemma='area'),\n",
       " Tag(word=')', pos=')', lemma=')'),\n",
       " Tag(word='.', pos='SENT', lemma='.'),\n",
       " Tag(word='The', pos='DT', lemma='the'),\n",
       " Tag(word='Tower', pos='NP', lemma='Tower'),\n",
       " Tag(word='District', pos='NP', lemma='District'),\n",
       " Tag(word='neighborhood', pos='NN', lemma='neighborhood'),\n",
       " Tag(word='is', pos='VBZ', lemma='be'),\n",
       " Tag(word='just', pos='RB', lemma='just'),\n",
       " Tag(word='north', pos='RB', lemma='north'),\n",
       " Tag(word='of', pos='IN', lemma='of'),\n",
       " Tag(word='downtown', pos='JJ', lemma='downtown'),\n",
       " Tag(word='Fresno', pos='NP', lemma='Fresno'),\n",
       " Tag(word='proper', pos='NN', lemma='proper'),\n",
       " Tag(word=',', pos=',', lemma=','),\n",
       " Tag(word='and', pos='CC', lemma='and'),\n",
       " Tag(word='one-half', pos='JJ', lemma='one-half'),\n",
       " Tag(word='mile', pos='NN', lemma='mile'),\n",
       " Tag(word='south', pos='NN', lemma='south'),\n",
       " Tag(word='of', pos='IN', lemma='of'),\n",
       " Tag(word='Fresno', pos='NP', lemma='Fresno'),\n",
       " Tag(word='City', pos='NP', lemma='City'),\n",
       " Tag(word='College', pos='NP', lemma='College'),\n",
       " Tag(word='.', pos='SENT', lemma='.'),\n",
       " Tag(word='Although', pos='IN', lemma='although'),\n",
       " Tag(word='the', pos='DT', lemma='the'),\n",
       " Tag(word='neighborhood', pos='NN', lemma='neighborhood'),\n",
       " Tag(word='was', pos='VBD', lemma='be'),\n",
       " Tag(word='known', pos='VVN', lemma='know'),\n",
       " Tag(word='as', pos='IN', lemma='as'),\n",
       " Tag(word='a', pos='DT', lemma='a'),\n",
       " Tag(word='residential', pos='JJ', lemma='residential'),\n",
       " Tag(word='area', pos='NN', lemma='area'),\n",
       " Tag(word='prior', pos='RB', lemma='prior'),\n",
       " Tag(word=',', pos=',', lemma=','),\n",
       " Tag(word='the', pos='DT', lemma='the'),\n",
       " Tag(word='early', pos='JJ', lemma='early'),\n",
       " Tag(word='commercial', pos='JJ', lemma='commercial'),\n",
       " Tag(word='establishments', pos='NNS', lemma='establishment'),\n",
       " Tag(word='of', pos='IN', lemma='of'),\n",
       " Tag(word='the', pos='DT', lemma='the'),\n",
       " Tag(word='Tower', pos='NP', lemma='Tower'),\n",
       " Tag(word='District', pos='NP', lemma='District'),\n",
       " Tag(word='began', pos='VVD', lemma='begin'),\n",
       " Tag(word='with', pos='IN', lemma='with'),\n",
       " Tag(word='small', pos='JJ', lemma='small'),\n",
       " Tag(word='shops', pos='NNS', lemma='shop'),\n",
       " Tag(word='and', pos='CC', lemma='and'),\n",
       " Tag(word='services', pos='NNS', lemma='service'),\n",
       " Tag(word='that', pos='WDT', lemma='that'),\n",
       " Tag(word='flocked', pos='VVD', lemma='flock'),\n",
       " Tag(word='to', pos='TO', lemma='to'),\n",
       " Tag(word='the', pos='DT', lemma='the'),\n",
       " Tag(word='area', pos='NN', lemma='area'),\n",
       " Tag(word='shortly', pos='RB', lemma='shortly'),\n",
       " Tag(word='after', pos='IN', lemma='after'),\n",
       " Tag(word='World', pos='NP', lemma='World'),\n",
       " Tag(word='War', pos='NP', lemma='War'),\n",
       " Tag(word='II', pos='NP', lemma='II'),\n",
       " Tag(word='.', pos='SENT', lemma='.'),\n",
       " Tag(word='The', pos='DT', lemma='the'),\n",
       " Tag(word='character', pos='NN', lemma='character'),\n",
       " Tag(word='of', pos='IN', lemma='of'),\n",
       " Tag(word='small', pos='JJ', lemma='small'),\n",
       " Tag(word='local', pos='JJ', lemma='local'),\n",
       " Tag(word='businesses', pos='NNS', lemma='business'),\n",
       " Tag(word='largely', pos='RB', lemma='largely'),\n",
       " Tag(word='remains', pos='VVZ', lemma='remain'),\n",
       " Tag(word='today', pos='NN', lemma='today'),\n",
       " Tag(word='.', pos='SENT', lemma='.'),\n",
       " Tag(word='To', pos='TO', lemma='to'),\n",
       " Tag(word='some', pos='DT', lemma='some'),\n",
       " Tag(word='extent', pos='NN', lemma='extent'),\n",
       " Tag(word=',', pos=',', lemma=','),\n",
       " Tag(word='the', pos='DT', lemma='the'),\n",
       " Tag(word='businesses', pos='NNS', lemma='business'),\n",
       " Tag(word='of', pos='IN', lemma='of'),\n",
       " Tag(word='the', pos='DT', lemma='the'),\n",
       " Tag(word='Tower', pos='NP', lemma='Tower'),\n",
       " Tag(word='District', pos='NP', lemma='District'),\n",
       " Tag(word='were', pos='VBD', lemma='be'),\n",
       " Tag(word='developed', pos='VVN', lemma='develop'),\n",
       " Tag(word='due', pos='RB', lemma='due'),\n",
       " Tag(word='to', pos='TO', lemma='to'),\n",
       " Tag(word='the', pos='DT', lemma='the'),\n",
       " Tag(word='proximity', pos='NN', lemma='proximity'),\n",
       " Tag(word='of', pos='IN', lemma='of'),\n",
       " Tag(word='the', pos='DT', lemma='the'),\n",
       " Tag(word='original', pos='JJ', lemma='original'),\n",
       " Tag(word='Fresno', pos='NP', lemma='Fresno'),\n",
       " Tag(word='Normal', pos='JJ', lemma='normal'),\n",
       " Tag(word='School', pos='NP', lemma='School'),\n",
       " Tag(word=',', pos=',', lemma=','),\n",
       " Tag(word='(', pos='(', lemma='('),\n",
       " Tag(word='later', pos='RBR', lemma='later'),\n",
       " Tag(word='renamed', pos='VVN', lemma='rename'),\n",
       " Tag(word='California', pos='NP', lemma='California'),\n",
       " Tag(word='State', pos='NP', lemma='State'),\n",
       " Tag(word='University', pos='NP', lemma='University'),\n",
       " Tag(word='at', pos='IN', lemma='at'),\n",
       " Tag(word='Fresno', pos='NP', lemma='Fresno'),\n",
       " Tag(word=')', pos=')', lemma=')'),\n",
       " Tag(word='.', pos='SENT', lemma='.'),\n",
       " Tag(word='In', pos='IN', lemma='in'),\n",
       " Tag(word='1916', pos='CD', lemma='@card@'),\n",
       " Tag(word='the', pos='DT', lemma='the'),\n",
       " Tag(word='college', pos='NN', lemma='college'),\n",
       " Tag(word='moved', pos='VVN', lemma='move'),\n",
       " Tag(word='to', pos='TO', lemma='to'),\n",
       " Tag(word='what', pos='WP', lemma='what'),\n",
       " Tag(word='is', pos='VBZ', lemma='be'),\n",
       " Tag(word='now', pos='RB', lemma='now'),\n",
       " Tag(word='the', pos='DT', lemma='the'),\n",
       " Tag(word='site', pos='NN', lemma='site'),\n",
       " Tag(word='of', pos='IN', lemma='of'),\n",
       " Tag(word='Fresno', pos='NP', lemma='Fresno'),\n",
       " Tag(word='City', pos='NP', lemma='City'),\n",
       " Tag(word='College', pos='NP', lemma='College'),\n",
       " Tag(word='one-half', pos='JJ', lemma='one-half'),\n",
       " Tag(word='mile', pos='NN', lemma='mile'),\n",
       " Tag(word='north', pos='NN', lemma='north'),\n",
       " Tag(word='of', pos='IN', lemma='of'),\n",
       " Tag(word='the', pos='DT', lemma='the'),\n",
       " Tag(word='Tower', pos='NP', lemma='Tower'),\n",
       " Tag(word='District', pos='NP', lemma='District'),\n",
       " Tag(word='.', pos='SENT', lemma='.')]"
      ]
     },
     "execution_count": 11,
     "metadata": {},
     "output_type": "execute_result"
    }
   ],
   "source": [
    "%%time\n",
    "pos_tagging(context_example)"
   ]
  },
  {
   "cell_type": "markdown",
   "metadata": {},
   "source": [
    "#### Spacy"
   ]
  },
  {
   "cell_type": "code",
   "execution_count": 12,
   "metadata": {},
   "outputs": [],
   "source": [
    "import spacy\n",
    "nlp_spacy = spacy.load(\"en_core_web_sm\")"
   ]
  },
  {
   "cell_type": "code",
   "execution_count": 13,
   "metadata": {},
   "outputs": [],
   "source": [
    "def pos_tagging_spacy(nlp, text):\n",
    "    postags = []\n",
    "    doc = nlp(text)\n",
    "    for token in doc:\n",
    "        postags.append((token.text, token.lemma_, token.pos_, token.tag_, token.dep_,\n",
    "            token.shape_, token.is_alpha, token.is_stop))\n",
    "    return postags"
   ]
  },
  {
   "cell_type": "code",
   "execution_count": 14,
   "metadata": {},
   "outputs": [
    {
     "name": "stdout",
     "output_type": "stream",
     "text": [
      "Wall time: 31.3 ms\n"
     ]
    },
    {
     "data": {
      "text/plain": [
       "[('When', 'when', 'ADV', 'WRB', 'advmod', 'Xxxx', True, True),\n",
       " ('was', 'be', 'AUX', 'VBD', 'ROOT', 'xxx', True, True),\n",
       " ('the', 'the', 'DET', 'DT', 'det', 'xxx', True, True),\n",
       " ('Tower', 'Tower', 'PROPN', 'NNP', 'compound', 'Xxxxx', True, False),\n",
       " ('Theatre', 'Theatre', 'PROPN', 'NNP', 'nsubj', 'Xxxxx', True, False),\n",
       " ('built', 'build', 'VERB', 'VBD', 'ccomp', 'xxxx', True, False),\n",
       " ('?', '?', 'PUNCT', '.', 'punct', '?', False, False)]"
      ]
     },
     "execution_count": 14,
     "metadata": {},
     "output_type": "execute_result"
    }
   ],
   "source": [
    "%%time\n",
    "pos_tagging_spacy(nlp_spacy, question_example)"
   ]
  },
  {
   "cell_type": "code",
   "execution_count": 15,
   "metadata": {},
   "outputs": [
    {
     "name": "stdout",
     "output_type": "stream",
     "text": [
      "Wall time: 8.01 ms\n"
     ]
    },
    {
     "data": {
      "text/plain": [
       "[('1939', '1939', 'NUM', 'CD', 'ROOT', 'dddd', False, False)]"
      ]
     },
     "execution_count": 15,
     "metadata": {},
     "output_type": "execute_result"
    }
   ],
   "source": [
    "%%time\n",
    "pos_tagging_spacy(nlp_spacy, response_example)"
   ]
  },
  {
   "cell_type": "code",
   "execution_count": 16,
   "metadata": {},
   "outputs": [
    {
     "name": "stdout",
     "output_type": "stream",
     "text": [
      "Wall time: 88.3 ms\n"
     ]
    },
    {
     "data": {
      "text/plain": [
       "[('The', 'the', 'DET', 'DT', 'det', 'Xxx', True, True),\n",
       " ('popular', 'popular', 'ADJ', 'JJ', 'amod', 'xxxx', True, False),\n",
       " ('neighborhood',\n",
       "  'neighborhood',\n",
       "  'NOUN',\n",
       "  'NN',\n",
       "  'nsubjpass',\n",
       "  'xxxx',\n",
       "  True,\n",
       "  False),\n",
       " ('known', 'know', 'VERB', 'VBN', 'acl', 'xxxx', True, False),\n",
       " ('as', 'as', 'SCONJ', 'IN', 'prep', 'xx', True, True),\n",
       " ('the', 'the', 'DET', 'DT', 'det', 'xxx', True, True),\n",
       " ('Tower', 'Tower', 'PROPN', 'NNP', 'compound', 'Xxxxx', True, False),\n",
       " ('District', 'District', 'PROPN', 'NNP', 'pobj', 'Xxxxx', True, False),\n",
       " ('is', 'be', 'AUX', 'VBZ', 'auxpass', 'xx', True, True),\n",
       " ('centered', 'center', 'VERB', 'VBN', 'ROOT', 'xxxx', True, False),\n",
       " ('around', 'around', 'ADP', 'IN', 'prep', 'xxxx', True, True),\n",
       " ('the', 'the', 'DET', 'DT', 'det', 'xxx', True, True),\n",
       " ('historic', 'historic', 'ADJ', 'JJ', 'amod', 'xxxx', True, False),\n",
       " ('Tower', 'Tower', 'PROPN', 'NNP', 'compound', 'Xxxxx', True, False),\n",
       " ('Theatre', 'Theatre', 'PROPN', 'NNP', 'pobj', 'Xxxxx', True, False),\n",
       " (',', ',', 'PUNCT', ',', 'punct', ',', False, False),\n",
       " ('which', 'which', 'DET', 'WDT', 'nsubjpass', 'xxxx', True, True),\n",
       " ('is', 'be', 'AUX', 'VBZ', 'auxpass', 'xx', True, True),\n",
       " ('included', 'include', 'VERB', 'VBN', 'relcl', 'xxxx', True, False),\n",
       " ('on', 'on', 'ADP', 'IN', 'prep', 'xx', True, True),\n",
       " ('the', 'the', 'DET', 'DT', 'det', 'xxx', True, True),\n",
       " ('National', 'National', 'PROPN', 'NNP', 'compound', 'Xxxxx', True, False),\n",
       " ('List', 'List', 'PROPN', 'NNP', 'pobj', 'Xxxx', True, False),\n",
       " ('of', 'of', 'ADP', 'IN', 'prep', 'xx', True, True),\n",
       " ('Historic', 'Historic', 'PROPN', 'NNP', 'compound', 'Xxxxx', True, False),\n",
       " ('Places', 'Places', 'PROPN', 'NNPS', 'pobj', 'Xxxxx', True, False),\n",
       " ('.', '.', 'PUNCT', '.', 'punct', '.', False, False),\n",
       " ('The', 'the', 'DET', 'DT', 'det', 'Xxx', True, True),\n",
       " ('theater', 'theater', 'NOUN', 'NN', 'nsubjpass', 'xxxx', True, False),\n",
       " ('was', 'be', 'AUX', 'VBD', 'auxpass', 'xxx', True, True),\n",
       " ('built', 'build', 'VERB', 'VBN', 'ROOT', 'xxxx', True, False),\n",
       " ('in', 'in', 'ADP', 'IN', 'prep', 'xx', True, True),\n",
       " ('1939', '1939', 'NUM', 'CD', 'pobj', 'dddd', False, False),\n",
       " ('and', 'and', 'CCONJ', 'CC', 'cc', 'xxx', True, True),\n",
       " ('is', 'be', 'AUX', 'VBZ', 'conj', 'xx', True, True),\n",
       " ('at', 'at', 'ADP', 'IN', 'prep', 'xx', True, True),\n",
       " ('Olive', 'Olive', 'PROPN', 'NNP', 'nmod', 'Xxxxx', True, False),\n",
       " ('and', 'and', 'CCONJ', 'CC', 'cc', 'xxx', True, True),\n",
       " ('Wishon', 'Wishon', 'PROPN', 'NNP', 'conj', 'Xxxxx', True, False),\n",
       " ('Avenues', 'Avenues', 'PROPN', 'NNPS', 'pobj', 'Xxxxx', True, False),\n",
       " ('in', 'in', 'ADP', 'IN', 'prep', 'xx', True, True),\n",
       " ('the', 'the', 'DET', 'DT', 'det', 'xxx', True, True),\n",
       " ('heart', 'heart', 'NOUN', 'NN', 'pobj', 'xxxx', True, False),\n",
       " ('of', 'of', 'ADP', 'IN', 'prep', 'xx', True, True),\n",
       " ('the', 'the', 'DET', 'DT', 'det', 'xxx', True, True),\n",
       " ('Tower', 'Tower', 'PROPN', 'NNP', 'compound', 'Xxxxx', True, False),\n",
       " ('District', 'District', 'PROPN', 'NNP', 'pobj', 'Xxxxx', True, False),\n",
       " ('.', '.', 'PUNCT', '.', 'punct', '.', False, False),\n",
       " ('(', '(', 'PUNCT', '-LRB-', 'punct', '(', False, False),\n",
       " ('The', 'the', 'DET', 'DT', 'det', 'Xxx', True, True),\n",
       " ('name', 'name', 'NOUN', 'NN', 'nsubj', 'xxxx', True, True),\n",
       " ('of', 'of', 'ADP', 'IN', 'prep', 'xx', True, True),\n",
       " ('the', 'the', 'DET', 'DT', 'det', 'xxx', True, True),\n",
       " ('theater', 'theater', 'NOUN', 'NN', 'pobj', 'xxxx', True, False),\n",
       " ('refers', 'refer', 'VERB', 'VBZ', 'ROOT', 'xxxx', True, False),\n",
       " ('to', 'to', 'ADP', 'IN', 'prep', 'xx', True, True),\n",
       " ('a', 'a', 'DET', 'DT', 'det', 'x', True, True),\n",
       " ('well', 'well', 'ADV', 'RB', 'advmod', 'xxxx', True, True),\n",
       " ('-', '-', 'PUNCT', 'HYPH', 'punct', '-', False, False),\n",
       " ('known', 'know', 'VERB', 'VBN', 'amod', 'xxxx', True, False),\n",
       " ('landmark', 'landmark', 'NOUN', 'NN', 'compound', 'xxxx', True, False),\n",
       " ('water', 'water', 'NOUN', 'NN', 'compound', 'xxxx', True, False),\n",
       " ('tower', 'tower', 'NOUN', 'NN', 'pobj', 'xxxx', True, False),\n",
       " (',', ',', 'PUNCT', ',', 'punct', ',', False, False),\n",
       " ('which', 'which', 'DET', 'WDT', 'nsubj', 'xxxx', True, True),\n",
       " ('is', 'be', 'AUX', 'VBZ', 'relcl', 'xx', True, True),\n",
       " ('actually', 'actually', 'ADV', 'RB', 'advmod', 'xxxx', True, False),\n",
       " ('in', 'in', 'ADP', 'IN', 'prep', 'xx', True, True),\n",
       " ('another', 'another', 'DET', 'DT', 'det', 'xxxx', True, True),\n",
       " ('nearby', 'nearby', 'ADJ', 'JJ', 'amod', 'xxxx', True, False),\n",
       " ('area', 'area', 'NOUN', 'NN', 'pobj', 'xxxx', True, False),\n",
       " (')', ')', 'PUNCT', '-RRB-', 'punct', ')', False, False),\n",
       " ('.', '.', 'PUNCT', '.', 'punct', '.', False, False),\n",
       " ('The', 'the', 'DET', 'DT', 'det', 'Xxx', True, True),\n",
       " ('Tower', 'Tower', 'PROPN', 'NNP', 'compound', 'Xxxxx', True, False),\n",
       " ('District', 'District', 'PROPN', 'NNP', 'compound', 'Xxxxx', True, False),\n",
       " ('neighborhood', 'neighborhood', 'NOUN', 'NN', 'nsubj', 'xxxx', True, False),\n",
       " ('is', 'be', 'AUX', 'VBZ', 'ROOT', 'xx', True, True),\n",
       " ('just', 'just', 'ADV', 'RB', 'advmod', 'xxxx', True, True),\n",
       " ('north', 'north', 'ADV', 'RB', 'attr', 'xxxx', True, False),\n",
       " ('of', 'of', 'ADP', 'IN', 'prep', 'xx', True, True),\n",
       " ('downtown', 'downtown', 'NOUN', 'NN', 'compound', 'xxxx', True, False),\n",
       " ('Fresno', 'Fresno', 'PROPN', 'NNP', 'pobj', 'Xxxxx', True, False),\n",
       " ('proper', 'proper', 'NOUN', 'NN', 'amod', 'xxxx', True, False),\n",
       " (',', ',', 'PUNCT', ',', 'punct', ',', False, False),\n",
       " ('and', 'and', 'CCONJ', 'CC', 'cc', 'xxx', True, True),\n",
       " ('one', 'one', 'NUM', 'CD', 'nummod', 'xxx', True, True),\n",
       " ('-', '-', 'PUNCT', 'HYPH', 'punct', '-', False, False),\n",
       " ('half', 'half', 'NOUN', 'NN', 'quantmod', 'xxxx', True, False),\n",
       " ('mile', 'mile', 'NOUN', 'NN', 'npadvmod', 'xxxx', True, False),\n",
       " ('south', 'south', 'ADV', 'RB', 'advmod', 'xxxx', True, False),\n",
       " ('of', 'of', 'ADP', 'IN', 'prep', 'xx', True, True),\n",
       " ('Fresno', 'Fresno', 'PROPN', 'NNP', 'compound', 'Xxxxx', True, False),\n",
       " ('City', 'City', 'PROPN', 'NNP', 'compound', 'Xxxx', True, False),\n",
       " ('College', 'College', 'PROPN', 'NNP', 'pobj', 'Xxxxx', True, False),\n",
       " ('.', '.', 'PUNCT', '.', 'punct', '.', False, False),\n",
       " ('Although', 'although', 'SCONJ', 'IN', 'mark', 'Xxxxx', True, True),\n",
       " ('the', 'the', 'DET', 'DT', 'det', 'xxx', True, True),\n",
       " ('neighborhood',\n",
       "  'neighborhood',\n",
       "  'NOUN',\n",
       "  'NN',\n",
       "  'nsubjpass',\n",
       "  'xxxx',\n",
       "  True,\n",
       "  False),\n",
       " ('was', 'be', 'AUX', 'VBD', 'auxpass', 'xxx', True, True),\n",
       " ('known', 'know', 'VERB', 'VBN', 'advcl', 'xxxx', True, False),\n",
       " ('as', 'as', 'SCONJ', 'IN', 'prep', 'xx', True, True),\n",
       " ('a', 'a', 'DET', 'DT', 'det', 'x', True, True),\n",
       " ('residential', 'residential', 'ADJ', 'JJ', 'amod', 'xxxx', True, False),\n",
       " ('area', 'area', 'NOUN', 'NN', 'pobj', 'xxxx', True, False),\n",
       " ('prior', 'prior', 'ADV', 'RB', 'advmod', 'xxxx', True, False),\n",
       " (',', ',', 'PUNCT', ',', 'punct', ',', False, False),\n",
       " ('the', 'the', 'DET', 'DT', 'det', 'xxx', True, True),\n",
       " ('early', 'early', 'ADJ', 'JJ', 'amod', 'xxxx', True, False),\n",
       " ('commercial', 'commercial', 'ADJ', 'JJ', 'amod', 'xxxx', True, False),\n",
       " ('establishments',\n",
       "  'establishment',\n",
       "  'NOUN',\n",
       "  'NNS',\n",
       "  'nsubj',\n",
       "  'xxxx',\n",
       "  True,\n",
       "  False),\n",
       " ('of', 'of', 'ADP', 'IN', 'prep', 'xx', True, True),\n",
       " ('the', 'the', 'DET', 'DT', 'det', 'xxx', True, True),\n",
       " ('Tower', 'Tower', 'PROPN', 'NNP', 'compound', 'Xxxxx', True, False),\n",
       " ('District', 'District', 'PROPN', 'NNP', 'pobj', 'Xxxxx', True, False),\n",
       " ('began', 'begin', 'VERB', 'VBD', 'ROOT', 'xxxx', True, False),\n",
       " ('with', 'with', 'ADP', 'IN', 'prep', 'xxxx', True, True),\n",
       " ('small', 'small', 'ADJ', 'JJ', 'amod', 'xxxx', True, False),\n",
       " ('shops', 'shop', 'NOUN', 'NNS', 'pobj', 'xxxx', True, False),\n",
       " ('and', 'and', 'CCONJ', 'CC', 'cc', 'xxx', True, True),\n",
       " ('services', 'service', 'NOUN', 'NNS', 'conj', 'xxxx', True, False),\n",
       " ('that', 'that', 'DET', 'WDT', 'nsubj', 'xxxx', True, True),\n",
       " ('flocked', 'flock', 'VERB', 'VBD', 'relcl', 'xxxx', True, False),\n",
       " ('to', 'to', 'ADP', 'IN', 'prep', 'xx', True, True),\n",
       " ('the', 'the', 'DET', 'DT', 'det', 'xxx', True, True),\n",
       " ('area', 'area', 'NOUN', 'NN', 'pobj', 'xxxx', True, False),\n",
       " ('shortly', 'shortly', 'ADV', 'RB', 'advmod', 'xxxx', True, False),\n",
       " ('after', 'after', 'ADP', 'IN', 'prep', 'xxxx', True, True),\n",
       " ('World', 'World', 'PROPN', 'NNP', 'compound', 'Xxxxx', True, False),\n",
       " ('War', 'War', 'PROPN', 'NNP', 'compound', 'Xxx', True, False),\n",
       " ('II', 'II', 'PROPN', 'NNP', 'pobj', 'XX', True, False),\n",
       " ('.', '.', 'PUNCT', '.', 'punct', '.', False, False),\n",
       " ('The', 'the', 'DET', 'DT', 'det', 'Xxx', True, True),\n",
       " ('character', 'character', 'NOUN', 'NN', 'nsubj', 'xxxx', True, False),\n",
       " ('of', 'of', 'ADP', 'IN', 'prep', 'xx', True, True),\n",
       " ('small', 'small', 'ADJ', 'JJ', 'amod', 'xxxx', True, False),\n",
       " ('local', 'local', 'ADJ', 'JJ', 'amod', 'xxxx', True, False),\n",
       " ('businesses', 'business', 'NOUN', 'NNS', 'pobj', 'xxxx', True, False),\n",
       " ('largely', 'largely', 'ADV', 'RB', 'advmod', 'xxxx', True, False),\n",
       " ('remains', 'remain', 'VERB', 'VBZ', 'ROOT', 'xxxx', True, False),\n",
       " ('today', 'today', 'NOUN', 'NN', 'npadvmod', 'xxxx', True, False),\n",
       " ('.', '.', 'PUNCT', '.', 'punct', '.', False, False),\n",
       " ('To', 'to', 'ADP', 'IN', 'prep', 'Xx', True, True),\n",
       " ('some', 'some', 'DET', 'DT', 'det', 'xxxx', True, True),\n",
       " ('extent', 'extent', 'NOUN', 'NN', 'pobj', 'xxxx', True, False),\n",
       " (',', ',', 'PUNCT', ',', 'punct', ',', False, False),\n",
       " ('the', 'the', 'DET', 'DT', 'det', 'xxx', True, True),\n",
       " ('businesses', 'business', 'NOUN', 'NNS', 'nsubjpass', 'xxxx', True, False),\n",
       " ('of', 'of', 'ADP', 'IN', 'prep', 'xx', True, True),\n",
       " ('the', 'the', 'DET', 'DT', 'det', 'xxx', True, True),\n",
       " ('Tower', 'Tower', 'PROPN', 'NNP', 'compound', 'Xxxxx', True, False),\n",
       " ('District', 'District', 'PROPN', 'NNP', 'pobj', 'Xxxxx', True, False),\n",
       " ('were', 'be', 'AUX', 'VBD', 'auxpass', 'xxxx', True, True),\n",
       " ('developed', 'develop', 'VERB', 'VBN', 'ROOT', 'xxxx', True, False),\n",
       " ('due', 'due', 'ADP', 'IN', 'prep', 'xxx', True, True),\n",
       " ('to', 'to', 'ADP', 'IN', 'pcomp', 'xx', True, True),\n",
       " ('the', 'the', 'DET', 'DT', 'det', 'xxx', True, True),\n",
       " ('proximity', 'proximity', 'NOUN', 'NN', 'pobj', 'xxxx', True, False),\n",
       " ('of', 'of', 'ADP', 'IN', 'prep', 'xx', True, True),\n",
       " ('the', 'the', 'DET', 'DT', 'det', 'xxx', True, True),\n",
       " ('original', 'original', 'ADJ', 'JJ', 'amod', 'xxxx', True, False),\n",
       " ('Fresno', 'Fresno', 'PROPN', 'NNP', 'compound', 'Xxxxx', True, False),\n",
       " ('Normal', 'Normal', 'PROPN', 'NNP', 'compound', 'Xxxxx', True, False),\n",
       " ('School', 'School', 'PROPN', 'NNP', 'pobj', 'Xxxxx', True, False),\n",
       " (',', ',', 'PUNCT', ',', 'punct', ',', False, False),\n",
       " ('(', '(', 'PUNCT', '-LRB-', 'punct', '(', False, False),\n",
       " ('later', 'later', 'ADV', 'RB', 'advmod', 'xxxx', True, False),\n",
       " ('renamed', 'rename', 'VERB', 'VBN', 'parataxis', 'xxxx', True, False),\n",
       " ('California',\n",
       "  'California',\n",
       "  'PROPN',\n",
       "  'NNP',\n",
       "  'compound',\n",
       "  'Xxxxx',\n",
       "  True,\n",
       "  False),\n",
       " ('State', 'State', 'PROPN', 'NNP', 'compound', 'Xxxxx', True, False),\n",
       " ('University', 'University', 'PROPN', 'NNP', 'dobj', 'Xxxxx', True, False),\n",
       " ('at', 'at', 'ADP', 'IN', 'prep', 'xx', True, True),\n",
       " ('Fresno', 'Fresno', 'PROPN', 'NNP', 'pobj', 'Xxxxx', True, False),\n",
       " (')', ')', 'PUNCT', '-RRB-', 'punct', ')', False, False),\n",
       " ('.', '.', 'PUNCT', '.', 'punct', '.', False, False),\n",
       " ('In', 'in', 'ADP', 'IN', 'prep', 'Xx', True, True),\n",
       " ('1916', '1916', 'NUM', 'CD', 'pobj', 'dddd', False, False),\n",
       " ('the', 'the', 'DET', 'DT', 'det', 'xxx', True, True),\n",
       " ('college', 'college', 'NOUN', 'NN', 'nsubj', 'xxxx', True, False),\n",
       " ('moved', 'move', 'VERB', 'VBD', 'ROOT', 'xxxx', True, False),\n",
       " ('to', 'to', 'ADP', 'IN', 'prep', 'xx', True, True),\n",
       " ('what', 'what', 'PRON', 'WP', 'nsubj', 'xxxx', True, True),\n",
       " ('is', 'be', 'AUX', 'VBZ', 'pcomp', 'xx', True, True),\n",
       " ('now', 'now', 'ADV', 'RB', 'advmod', 'xxx', True, True),\n",
       " ('the', 'the', 'DET', 'DT', 'det', 'xxx', True, True),\n",
       " ('site', 'site', 'NOUN', 'NN', 'attr', 'xxxx', True, False),\n",
       " ('of', 'of', 'ADP', 'IN', 'prep', 'xx', True, True),\n",
       " ('Fresno', 'Fresno', 'PROPN', 'NNP', 'compound', 'Xxxxx', True, False),\n",
       " ('City', 'City', 'PROPN', 'NNP', 'compound', 'Xxxx', True, False),\n",
       " ('College', 'College', 'PROPN', 'NNP', 'pobj', 'Xxxxx', True, False),\n",
       " ('one', 'one', 'NUM', 'CD', 'nummod', 'xxx', True, True),\n",
       " ('-', '-', 'PUNCT', 'HYPH', 'punct', '-', False, False),\n",
       " ('half', 'half', 'NOUN', 'NN', 'nummod', 'xxxx', True, False),\n",
       " ('mile', 'mile', 'NOUN', 'NN', 'npadvmod', 'xxxx', True, False),\n",
       " ('north', 'north', 'ADV', 'RB', 'advmod', 'xxxx', True, False),\n",
       " ('of', 'of', 'ADP', 'IN', 'prep', 'xx', True, True),\n",
       " ('the', 'the', 'DET', 'DT', 'det', 'xxx', True, True),\n",
       " ('Tower', 'Tower', 'PROPN', 'NNP', 'compound', 'Xxxxx', True, False),\n",
       " ('District', 'District', 'PROPN', 'NNP', 'pobj', 'Xxxxx', True, False),\n",
       " ('.', '.', 'PUNCT', '.', 'punct', '.', False, False)]"
      ]
     },
     "execution_count": 16,
     "metadata": {},
     "output_type": "execute_result"
    }
   ],
   "source": [
    "%%time\n",
    "pos_tagging_spacy(nlp_spacy, context_example)"
   ]
  },
  {
   "cell_type": "markdown",
   "metadata": {},
   "source": [
    "#### Stanza"
   ]
  },
  {
   "cell_type": "code",
   "execution_count": 17,
   "metadata": {},
   "outputs": [],
   "source": [
    "#!pip install stanza\n",
    "import stanza\n",
    "#stanza.download('en')"
   ]
  },
  {
   "cell_type": "code",
   "execution_count": 18,
   "metadata": {},
   "outputs": [
    {
     "name": "stderr",
     "output_type": "stream",
     "text": [
      "2021-06-20 15:57:26 INFO: Loading these models for language: en (English):\n",
      "=========================\n",
      "| Processor | Package   |\n",
      "-------------------------\n",
      "| tokenize  | combined  |\n",
      "| pos       | combined  |\n",
      "| lemma     | combined  |\n",
      "| depparse  | combined  |\n",
      "| sentiment | sstplus   |\n",
      "| ner       | ontonotes |\n",
      "=========================\n",
      "\n",
      "2021-06-20 15:57:26 INFO: Use device: cpu\n",
      "2021-06-20 15:57:26 INFO: Loading: tokenize\n",
      "2021-06-20 15:57:26 INFO: Loading: pos\n",
      "2021-06-20 15:57:27 INFO: Loading: lemma\n",
      "2021-06-20 15:57:27 INFO: Loading: depparse\n",
      "2021-06-20 15:57:27 INFO: Loading: sentiment\n",
      "2021-06-20 15:57:28 INFO: Loading: ner\n",
      "2021-06-20 15:57:29 INFO: Done loading processors!\n"
     ]
    }
   ],
   "source": [
    "nlp = stanza.Pipeline('en')"
   ]
  },
  {
   "cell_type": "code",
   "execution_count": 19,
   "metadata": {},
   "outputs": [],
   "source": [
    "def pos_tagging_stanza(nlp, text):\n",
    "    postags = []\n",
    "    doc = nlp(text)\n",
    "    for sent in doc.sentences:\n",
    "        for token in sent.words:\n",
    "            postags.append((token.text, token.upos, token.xpos, token.feats))\n",
    "    return postags"
   ]
  },
  {
   "cell_type": "code",
   "execution_count": 20,
   "metadata": {},
   "outputs": [
    {
     "name": "stdout",
     "output_type": "stream",
     "text": [
      "Wall time: 245 ms\n"
     ]
    },
    {
     "data": {
      "text/plain": [
       "[('When', 'ADV', 'WRB', 'PronType=Int'),\n",
       " ('was',\n",
       "  'AUX',\n",
       "  'VBD',\n",
       "  'Mood=Ind|Number=Sing|Person=3|Tense=Past|VerbForm=Fin'),\n",
       " ('the', 'DET', 'DT', 'Definite=Def|PronType=Art'),\n",
       " ('Tower', 'NOUN', 'NN', 'Number=Sing'),\n",
       " ('Theatre', 'NOUN', 'NN', 'Number=Sing'),\n",
       " ('built', 'VERB', 'VBN', 'Tense=Past|VerbForm=Part'),\n",
       " ('?', 'PUNCT', '.', None)]"
      ]
     },
     "execution_count": 20,
     "metadata": {},
     "output_type": "execute_result"
    }
   ],
   "source": [
    "%%time\n",
    "pos_tagging_stanza(nlp, question_example)"
   ]
  },
  {
   "cell_type": "code",
   "execution_count": 21,
   "metadata": {},
   "outputs": [
    {
     "name": "stdout",
     "output_type": "stream",
     "text": [
      "Wall time: 84.1 ms\n"
     ]
    },
    {
     "data": {
      "text/plain": [
       "[('1939', 'NUM', 'CD', 'NumType=Card')]"
      ]
     },
     "execution_count": 21,
     "metadata": {},
     "output_type": "execute_result"
    }
   ],
   "source": [
    "%%time\n",
    "pos_tagging_stanza(nlp, response_example)"
   ]
  },
  {
   "cell_type": "code",
   "execution_count": 22,
   "metadata": {},
   "outputs": [
    {
     "name": "stdout",
     "output_type": "stream",
     "text": [
      "Wall time: 3.05 s\n"
     ]
    },
    {
     "data": {
      "text/plain": [
       "[('The', 'DET', 'DT', 'Definite=Def|PronType=Art'),\n",
       " ('popular', 'ADJ', 'JJ', 'Degree=Pos'),\n",
       " ('neighborhood', 'NOUN', 'NN', 'Number=Sing'),\n",
       " ('known', 'VERB', 'VBN', 'Tense=Past|VerbForm=Part'),\n",
       " ('as', 'SCONJ', 'IN', None),\n",
       " ('the', 'DET', 'DT', 'Definite=Def|PronType=Art'),\n",
       " ('Tower', 'PROPN', 'NNP', 'Number=Sing'),\n",
       " ('District', 'PROPN', 'NNP', 'Number=Sing'),\n",
       " ('is', 'AUX', 'VBZ', 'Mood=Ind|Number=Sing|Person=3|Tense=Pres|VerbForm=Fin'),\n",
       " ('centered', 'VERB', 'VBN', 'Tense=Past|VerbForm=Part|Voice=Pass'),\n",
       " ('around', 'ADP', 'IN', None),\n",
       " ('the', 'DET', 'DT', 'Definite=Def|PronType=Art'),\n",
       " ('historic', 'ADJ', 'JJ', 'Degree=Pos'),\n",
       " ('Tower', 'PROPN', 'NNP', 'Number=Sing'),\n",
       " ('Theatre', 'PROPN', 'NNP', 'Number=Sing'),\n",
       " (',', 'PUNCT', ',', None),\n",
       " ('which', 'PRON', 'WDT', 'PronType=Rel'),\n",
       " ('is', 'AUX', 'VBZ', 'Mood=Ind|Number=Sing|Person=3|Tense=Pres|VerbForm=Fin'),\n",
       " ('included', 'VERB', 'VBN', 'Tense=Past|VerbForm=Part|Voice=Pass'),\n",
       " ('on', 'ADP', 'IN', None),\n",
       " ('the', 'DET', 'DT', 'Definite=Def|PronType=Art'),\n",
       " ('National', 'PROPN', 'NNP', 'Number=Sing'),\n",
       " ('List', 'PROPN', 'NNP', 'Number=Sing'),\n",
       " ('of', 'ADP', 'IN', None),\n",
       " ('Historic', 'PROPN', 'NNP', 'Number=Sing'),\n",
       " ('Places', 'PROPN', 'NNPS', 'Number=Plur'),\n",
       " ('.', 'PUNCT', '.', None),\n",
       " ('The', 'DET', 'DT', 'Definite=Def|PronType=Art'),\n",
       " ('theater', 'NOUN', 'NN', 'Number=Sing'),\n",
       " ('was',\n",
       "  'AUX',\n",
       "  'VBD',\n",
       "  'Mood=Ind|Number=Sing|Person=3|Tense=Past|VerbForm=Fin'),\n",
       " ('built', 'VERB', 'VBN', 'Tense=Past|VerbForm=Part|Voice=Pass'),\n",
       " ('in', 'ADP', 'IN', None),\n",
       " ('1939', 'NUM', 'CD', 'NumType=Card'),\n",
       " ('and', 'CCONJ', 'CC', None),\n",
       " ('is', 'AUX', 'VBZ', 'Mood=Ind|Number=Sing|Person=3|Tense=Pres|VerbForm=Fin'),\n",
       " ('at', 'ADP', 'IN', None),\n",
       " ('Olive', 'PROPN', 'NNP', 'Number=Sing'),\n",
       " ('and', 'CCONJ', 'CC', None),\n",
       " ('Wishon', 'PROPN', 'NNP', 'Number=Sing'),\n",
       " ('Avenues', 'PROPN', 'NNPS', 'Number=Plur'),\n",
       " ('in', 'ADP', 'IN', None),\n",
       " ('the', 'DET', 'DT', 'Definite=Def|PronType=Art'),\n",
       " ('heart', 'NOUN', 'NN', 'Number=Sing'),\n",
       " ('of', 'ADP', 'IN', None),\n",
       " ('the', 'DET', 'DT', 'Definite=Def|PronType=Art'),\n",
       " ('Tower', 'PROPN', 'NNP', 'Number=Sing'),\n",
       " ('District', 'PROPN', 'NNP', 'Number=Sing'),\n",
       " ('.', 'PUNCT', '.', None),\n",
       " ('(', 'PUNCT', '-LRB-', None),\n",
       " ('The', 'DET', 'DT', 'Definite=Def|PronType=Art'),\n",
       " ('name', 'NOUN', 'NN', 'Number=Sing'),\n",
       " ('of', 'ADP', 'IN', None),\n",
       " ('the', 'DET', 'DT', 'Definite=Def|PronType=Art'),\n",
       " ('theater', 'NOUN', 'NN', 'Number=Sing'),\n",
       " ('refers',\n",
       "  'VERB',\n",
       "  'VBZ',\n",
       "  'Mood=Ind|Number=Sing|Person=3|Tense=Pres|VerbForm=Fin'),\n",
       " ('to', 'ADP', 'IN', None),\n",
       " ('a', 'DET', 'DT', 'Definite=Ind|PronType=Art'),\n",
       " ('well', 'ADV', 'RB', 'Degree=Pos'),\n",
       " ('-', 'PUNCT', 'HYPH', None),\n",
       " ('known', 'VERB', 'VBN', 'Tense=Past|VerbForm=Part'),\n",
       " ('landmark', 'NOUN', 'NN', 'Number=Sing'),\n",
       " ('water', 'NOUN', 'NN', 'Number=Sing'),\n",
       " ('tower', 'NOUN', 'NN', 'Number=Sing'),\n",
       " (',', 'PUNCT', ',', None),\n",
       " ('which', 'PRON', 'WDT', 'PronType=Rel'),\n",
       " ('is', 'AUX', 'VBZ', 'Mood=Ind|Number=Sing|Person=3|Tense=Pres|VerbForm=Fin'),\n",
       " ('actually', 'ADV', 'RB', None),\n",
       " ('in', 'ADP', 'IN', None),\n",
       " ('another', 'DET', 'DT', None),\n",
       " ('nearby', 'ADJ', 'JJ', 'Degree=Pos'),\n",
       " ('area', 'NOUN', 'NN', 'Number=Sing'),\n",
       " (')', 'PUNCT', '-RRB-', None),\n",
       " ('.', 'PUNCT', '.', None),\n",
       " ('The', 'DET', 'DT', 'Definite=Def|PronType=Art'),\n",
       " ('Tower', 'PROPN', 'NNP', 'Number=Sing'),\n",
       " ('District', 'PROPN', 'NNP', 'Number=Sing'),\n",
       " ('neighborhood', 'NOUN', 'NN', 'Number=Sing'),\n",
       " ('is', 'AUX', 'VBZ', 'Mood=Ind|Number=Sing|Person=3|Tense=Pres|VerbForm=Fin'),\n",
       " ('just', 'ADV', 'RB', None),\n",
       " ('north', 'ADV', 'RB', None),\n",
       " ('of', 'ADP', 'IN', None),\n",
       " ('downtown', 'ADJ', 'JJ', 'Degree=Pos'),\n",
       " ('Fresno', 'PROPN', 'NNP', 'Number=Sing'),\n",
       " ('proper', 'ADJ', 'JJ', 'Degree=Pos'),\n",
       " (',', 'PUNCT', ',', None),\n",
       " ('and', 'CCONJ', 'CC', None),\n",
       " ('one-half', 'ADJ', 'JJ', 'Degree=Pos'),\n",
       " ('mile', 'NOUN', 'NN', 'Number=Sing'),\n",
       " ('south', 'ADV', 'RB', None),\n",
       " ('of', 'ADP', 'IN', None),\n",
       " ('Fresno', 'PROPN', 'NNP', 'Number=Sing'),\n",
       " ('City', 'PROPN', 'NNP', 'Number=Sing'),\n",
       " ('College', 'PROPN', 'NNP', 'Number=Sing'),\n",
       " ('.', 'PUNCT', '.', None),\n",
       " ('Although', 'SCONJ', 'IN', None),\n",
       " ('the', 'DET', 'DT', 'Definite=Def|PronType=Art'),\n",
       " ('neighborhood', 'NOUN', 'NN', 'Number=Sing'),\n",
       " ('was',\n",
       "  'AUX',\n",
       "  'VBD',\n",
       "  'Mood=Ind|Number=Sing|Person=3|Tense=Past|VerbForm=Fin'),\n",
       " ('known', 'VERB', 'VBN', 'Tense=Past|VerbForm=Part|Voice=Pass'),\n",
       " ('as', 'ADP', 'IN', None),\n",
       " ('a', 'DET', 'DT', 'Definite=Ind|PronType=Art'),\n",
       " ('residential', 'ADJ', 'JJ', 'Degree=Pos'),\n",
       " ('area', 'NOUN', 'NN', 'Number=Sing'),\n",
       " ('prior', 'ADJ', 'JJ', 'Degree=Pos'),\n",
       " (',', 'PUNCT', ',', None),\n",
       " ('the', 'DET', 'DT', 'Definite=Def|PronType=Art'),\n",
       " ('early', 'ADJ', 'JJ', 'Degree=Pos'),\n",
       " ('commercial', 'ADJ', 'JJ', 'Degree=Pos'),\n",
       " ('establishments', 'NOUN', 'NNS', 'Number=Plur'),\n",
       " ('of', 'ADP', 'IN', None),\n",
       " ('the', 'DET', 'DT', 'Definite=Def|PronType=Art'),\n",
       " ('Tower', 'PROPN', 'NNP', 'Number=Sing'),\n",
       " ('District', 'PROPN', 'NNP', 'Number=Sing'),\n",
       " ('began', 'VERB', 'VBD', 'Mood=Ind|Tense=Past|VerbForm=Fin'),\n",
       " ('with', 'ADP', 'IN', None),\n",
       " ('small', 'ADJ', 'JJ', 'Degree=Pos'),\n",
       " ('shops', 'NOUN', 'NNS', 'Number=Plur'),\n",
       " ('and', 'CCONJ', 'CC', None),\n",
       " ('services', 'NOUN', 'NNS', 'Number=Plur'),\n",
       " ('that', 'PRON', 'WDT', 'PronType=Rel'),\n",
       " ('flocked', 'VERB', 'VBD', 'Mood=Ind|Tense=Past|VerbForm=Fin'),\n",
       " ('to', 'ADP', 'IN', None),\n",
       " ('the', 'DET', 'DT', 'Definite=Def|PronType=Art'),\n",
       " ('area', 'NOUN', 'NN', 'Number=Sing'),\n",
       " ('shortly', 'ADV', 'RB', None),\n",
       " ('after', 'ADP', 'IN', None),\n",
       " ('World', 'PROPN', 'NNP', 'Number=Sing'),\n",
       " ('War', 'PROPN', 'NNP', 'Number=Sing'),\n",
       " ('II', 'PROPN', 'NNP', 'Number=Sing'),\n",
       " ('.', 'PUNCT', '.', None),\n",
       " ('The', 'DET', 'DT', 'Definite=Def|PronType=Art'),\n",
       " ('character', 'NOUN', 'NN', 'Number=Sing'),\n",
       " ('of', 'ADP', 'IN', None),\n",
       " ('small', 'ADJ', 'JJ', 'Degree=Pos'),\n",
       " ('local', 'ADJ', 'JJ', 'Degree=Pos'),\n",
       " ('businesses', 'NOUN', 'NNS', 'Number=Plur'),\n",
       " ('largely', 'ADV', 'RB', None),\n",
       " ('remains',\n",
       "  'VERB',\n",
       "  'VBZ',\n",
       "  'Mood=Ind|Number=Sing|Person=3|Tense=Pres|VerbForm=Fin'),\n",
       " ('today', 'NOUN', 'NN', 'Number=Sing'),\n",
       " ('.', 'PUNCT', '.', None),\n",
       " ('To', 'ADP', 'IN', None),\n",
       " ('some', 'DET', 'DT', None),\n",
       " ('extent', 'NOUN', 'NN', 'Number=Sing'),\n",
       " (',', 'PUNCT', ',', None),\n",
       " ('the', 'DET', 'DT', 'Definite=Def|PronType=Art'),\n",
       " ('businesses', 'NOUN', 'NNS', 'Number=Plur'),\n",
       " ('of', 'ADP', 'IN', None),\n",
       " ('the', 'DET', 'DT', 'Definite=Def|PronType=Art'),\n",
       " ('Tower', 'PROPN', 'NNP', 'Number=Sing'),\n",
       " ('District', 'PROPN', 'NNP', 'Number=Sing'),\n",
       " ('were', 'AUX', 'VBD', 'Mood=Ind|Tense=Past|VerbForm=Fin'),\n",
       " ('developed', 'VERB', 'VBN', 'Tense=Past|VerbForm=Part|Voice=Pass'),\n",
       " ('due', 'ADP', 'IN', None),\n",
       " ('to', 'ADP', 'IN', None),\n",
       " ('the', 'DET', 'DT', 'Definite=Def|PronType=Art'),\n",
       " ('proximity', 'NOUN', 'NN', 'Number=Sing'),\n",
       " ('of', 'ADP', 'IN', None),\n",
       " ('the', 'DET', 'DT', 'Definite=Def|PronType=Art'),\n",
       " ('original', 'ADJ', 'JJ', 'Degree=Pos'),\n",
       " ('Fresno', 'PROPN', 'NNP', 'Number=Sing'),\n",
       " ('Normal', 'PROPN', 'NNP', 'Number=Sing'),\n",
       " ('School', 'PROPN', 'NNP', 'Number=Sing'),\n",
       " (',', 'PUNCT', ',', None),\n",
       " ('(', 'PUNCT', '-LRB-', None),\n",
       " ('later', 'ADV', 'RB', 'Degree=Cmp'),\n",
       " ('renamed', 'VERB', 'VBN', 'Tense=Past|VerbForm=Part'),\n",
       " ('California', 'PROPN', 'NNP', 'Number=Sing'),\n",
       " ('State', 'PROPN', 'NNP', 'Number=Sing'),\n",
       " ('University', 'PROPN', 'NNP', 'Number=Sing'),\n",
       " ('at', 'ADP', 'IN', None),\n",
       " ('Fresno', 'PROPN', 'NNP', 'Number=Sing'),\n",
       " (')', 'PUNCT', '-RRB-', None),\n",
       " ('.', 'PUNCT', '.', None),\n",
       " ('In', 'ADP', 'IN', None),\n",
       " ('1916', 'NUM', 'CD', 'NumType=Card'),\n",
       " ('the', 'DET', 'DT', 'Definite=Def|PronType=Art'),\n",
       " ('college', 'NOUN', 'NN', 'Number=Sing'),\n",
       " ('moved', 'VERB', 'VBD', 'Mood=Ind|Tense=Past|VerbForm=Fin'),\n",
       " ('to', 'ADP', 'IN', None),\n",
       " ('what', 'PRON', 'WP', 'PronType=Int'),\n",
       " ('is', 'AUX', 'VBZ', 'Mood=Ind|Number=Sing|Person=3|Tense=Pres|VerbForm=Fin'),\n",
       " ('now', 'ADV', 'RB', None),\n",
       " ('the', 'DET', 'DT', 'Definite=Def|PronType=Art'),\n",
       " ('site', 'NOUN', 'NN', 'Number=Sing'),\n",
       " ('of', 'ADP', 'IN', None),\n",
       " ('Fresno', 'PROPN', 'NNP', 'Number=Sing'),\n",
       " ('City', 'PROPN', 'NNP', 'Number=Sing'),\n",
       " ('College', 'PROPN', 'NNP', 'Number=Sing'),\n",
       " ('one', 'NUM', 'CD', 'NumType=Card'),\n",
       " ('-', 'PUNCT', 'HYPH', None),\n",
       " ('half', 'ADJ', 'JJ', 'Degree=Pos'),\n",
       " ('mile', 'NOUN', 'NN', 'Number=Sing'),\n",
       " ('north', 'ADV', 'RB', None),\n",
       " ('of', 'ADP', 'IN', None),\n",
       " ('the', 'DET', 'DT', 'Definite=Def|PronType=Art'),\n",
       " ('Tower', 'PROPN', 'NNP', 'Number=Sing'),\n",
       " ('District', 'PROPN', 'NNP', 'Number=Sing'),\n",
       " ('.', 'PUNCT', '.', None)]"
      ]
     },
     "execution_count": 22,
     "metadata": {},
     "output_type": "execute_result"
    }
   ],
   "source": [
    "%%time\n",
    "pos_tagging_stanza(nlp, context_example)"
   ]
  },
  {
   "cell_type": "code",
   "execution_count": 23,
   "metadata": {},
   "outputs": [],
   "source": [
    "def ner_stanza(nlp, text):\n",
    "    nertags = []\n",
    "    doc = nlp(text)\n",
    "    for token in doc.ents:\n",
    "        nertags.append((token.text, token.type))\n",
    "    return nertags"
   ]
  },
  {
   "cell_type": "code",
   "execution_count": 24,
   "metadata": {},
   "outputs": [
    {
     "name": "stdout",
     "output_type": "stream",
     "text": [
      "[('Amazon', 'LOC'), ('English', 'LANGUAGE')]\n",
      "[('English', 'LANGUAGE'), ('Amazonia', 'LOC'), ('the Amazon Jungle', 'LOC')]\n"
     ]
    }
   ],
   "source": [
    "print(ner_stanza(nlp, 'Which name is also used to describe the Amazon rainforest in English?'))\n",
    "print(ner_stanza(nlp, 'also known in English as Amazonia or the Amazon Jungle,'))"
   ]
  },
  {
   "cell_type": "code",
   "execution_count": 25,
   "metadata": {},
   "outputs": [
    {
     "name": "stdout",
     "output_type": "stream",
     "text": [
      "[('Jay Z', 'PERSON'), ('Beyonce', 'PERSON'), ('August of 2011', 'DATE')]\n",
      "[('MTV Video Music Awards', 'ORG')]\n"
     ]
    }
   ],
   "source": [
    "print(ner_stanza(nlp, 'Jay Z and Beyonce attended which event together in August of 2011?'))\n",
    "print(ner_stanza(nlp, 'MTV Video Music Awards'))"
   ]
  },
  {
   "cell_type": "code",
   "execution_count": 26,
   "metadata": {},
   "outputs": [
    {
     "name": "stdout",
     "output_type": "stream",
     "text": [
      "[('the Tower Theatre', 'FAC')]\n",
      "[('1939', 'DATE')]\n"
     ]
    }
   ],
   "source": [
    "print(ner_stanza(nlp, question_example))\n",
    "print(ner_stanza(nlp, response_example))"
   ]
  },
  {
   "cell_type": "code",
   "execution_count": 27,
   "metadata": {},
   "outputs": [
    {
     "name": "stdout",
     "output_type": "stream",
     "text": [
      "[('the Tower District', 'LOC'), ('Tower Theatre', 'FAC'), ('the National List of Historic Places', 'ORG'), ('1939', 'DATE'), ('Olive and Wishon Avenues', 'FAC'), ('the Tower District', 'LOC'), ('Tower District', 'LOC'), ('Fresno', 'GPE'), ('one-half mile', 'QUANTITY'), ('Fresno City College', 'FAC'), ('the Tower District', 'LOC'), ('World War II', 'EVENT'), ('today', 'DATE'), ('the Tower District', 'LOC'), ('Fresno Normal School', 'ORG'), ('California State University', 'ORG'), ('Fresno', 'GPE'), ('1916', 'DATE'), ('Fresno City College', 'ORG'), ('one-half mile', 'QUANTITY'), ('the Tower District', 'LOC')]\n"
     ]
    }
   ],
   "source": [
    "print(ner_stanza(nlp, context_example))"
   ]
  },
  {
   "cell_type": "code",
   "execution_count": 28,
   "metadata": {},
   "outputs": [
    {
     "name": "stdout",
     "output_type": "stream",
     "text": [
      "[('Amazon', 'LOC'), ('Portuguese', 'NORP'), ('Amazônia', 'GPE'), ('Selva Amazónica', 'LOC'), ('Amazonía', 'LOC'), ('Amazonia', 'LOC'), ('French', 'NORP'), ('Dutch', 'NORP'), ('English', 'LANGUAGE'), ('Amazonia', 'LOC'), ('the Amazon Jungle', 'LOC'), ('Amazon', 'LOC'), ('South America', 'LOC'), ('7,000,000 square kilometres', 'QUANTITY'), ('2,700,000 sq mi', 'QUANTITY'), ('5,500,000 square kilometres', 'QUANTITY'), ('2,100,000 sq mi', 'QUANTITY'), ('nine', 'CARDINAL'), ('Brazil', 'GPE'), ('60%', 'PERCENT'), ('Peru', 'GPE'), ('13%', 'PERCENT'), ('Colombia', 'GPE'), ('10%', 'PERCENT'), ('Venezuela', 'GPE'), ('Ecuador', 'GPE'), ('Bolivia', 'GPE'), ('Guyana', 'GPE'), ('Suriname', 'GPE'), ('French Guiana', 'GPE'), ('four', 'CARDINAL'), ('Amazonas', 'ORG'), ('Amazon', 'ORG'), ('over half', 'CARDINAL'), ('390 billion', 'CARDINAL'), ('16,000', 'CARDINAL')]\n"
     ]
    }
   ],
   "source": [
    "print(ner_stanza(nlp, amazon_context_example))"
   ]
  },
  {
   "cell_type": "code",
   "execution_count": 29,
   "metadata": {},
   "outputs": [
    {
     "name": "stdout",
     "output_type": "stream",
     "text": [
      "[('August', 'DATE'), ('2011', 'DATE'), ('MTV Video Music Awards', 'EVENT'), ('Beyoncé', 'PERSON'), ('\"Love on Top\"', 'WORK_OF_ART'), ('Tonight', 'TIME'), ('earlier in the evening', 'TIME'), ('year', 'DATE'), ('MTV Video Music Awards', 'WORK_OF_ART'), ('MTV', 'ORG'), ('12.4 million', 'CARDINAL'), ('Guinness World Records', 'WORK_OF_ART'), ('second', 'ORDINAL'), ('Twitter', 'ORG'), ('8,868', 'CARDINAL'), ('\"Beyonce pregnant\"', 'WORK_OF_ART'), ('the week of August 29, 2011', 'DATE')]\n"
     ]
    }
   ],
   "source": [
    "print(ner_stanza(nlp, beyonce_context))"
   ]
  },
  {
   "cell_type": "code",
   "execution_count": 30,
   "metadata": {},
   "outputs": [
    {
     "name": "stdout",
     "output_type": "stream",
     "text": [
      "[('Madrid', 'GPE'), ('3 euros', 'MONEY'), ('3 hours', 'TIME'), ('5%', 'PERCENT'), ('first', 'ORDINAL')]\n"
     ]
    }
   ],
   "source": [
    "print(ner_stanza(nlp, 'This poster of Madrid costs 3 euros during 3 hours with 5% of discount to first buyers'))"
   ]
  },
  {
   "cell_type": "markdown",
   "metadata": {},
   "source": [
    "### Stanford Core NLP NER"
   ]
  },
  {
   "cell_type": "code",
   "execution_count": 31,
   "metadata": {},
   "outputs": [],
   "source": [
    "#from stanfordnlp.server import CoreNLPClient\n",
    "from stanfordcorenlp import StanfordCoreNLP"
   ]
  },
  {
   "cell_type": "code",
   "execution_count": 32,
   "metadata": {},
   "outputs": [],
   "source": [
    "import re\n",
    "def preprocess_text(text_str):\n",
    "    regular_expr = re.compile('\\n|\\r|\\t|\\(|\\)|\\[|\\]|:|\\,|\\;|\"|\\?|\\-|\\%')\n",
    "    text_str = re.sub(regular_expr, ' ', text_str)\n",
    "    token_list = text_str.split(' ')\n",
    "    token_list = [element for element in token_list if element]\n",
    "    return ' '.join(token_list)"
   ]
  },
  {
   "cell_type": "code",
   "execution_count": 33,
   "metadata": {},
   "outputs": [],
   "source": [
    "def filter_ner_relevant(tuple_list):\n",
    "    ner_dictionary = {}\n",
    "    previous_ner = 'O'\n",
    "    for element in tuple_list:\n",
    "        if element[1] != 'O':\n",
    "            if element[1] == previous_ner:\n",
    "                ner_dictionary[element[1]][-1] += ' ' + element[0]\n",
    "            elif element[1] in ner_dictionary.keys():\n",
    "                ner_dictionary[element[1]].append(element[0])\n",
    "            else:\n",
    "                ner_dictionary[element[1]] = [element[0]]    \n",
    "        previous_ner = element[1]\n",
    "    return ner_dictionary"
   ]
  },
  {
   "cell_type": "markdown",
   "metadata": {},
   "source": [
    "Start server with command: java -mx4g -cp \"*\" edu.stanford.nlp.pipeline.StanfordCoreNLPServer -annotators \"tokenize,ssplit\n",
    ",pos,lemma,parse,ner,sentiment\" -port 9000 -timeout 30000"
   ]
  },
  {
   "cell_type": "code",
   "execution_count": 34,
   "metadata": {},
   "outputs": [],
   "source": [
    "# https://www.khalidalnajjar.com/setup-use-stanford-corenlp-server-python/\n",
    "# https://stanfordnlp.github.io/CoreNLP/index.html#download\n",
    "# https://stanfordnlp.github.io/stanfordnlp/corenlp_client.html\n",
    "nlp = StanfordCoreNLP('http://localhost', port=9000, timeout=30000)"
   ]
  },
  {
   "cell_type": "code",
   "execution_count": 35,
   "metadata": {},
   "outputs": [
    {
     "data": {
      "text/plain": [
       "[('When', 'O'),\n",
       " ('was', 'O'),\n",
       " ('the', 'O'),\n",
       " ('Tower', 'O'),\n",
       " ('Theatre', 'O'),\n",
       " ('built', 'O')]"
      ]
     },
     "execution_count": 35,
     "metadata": {},
     "output_type": "execute_result"
    }
   ],
   "source": [
    "#filter_ner_relevant(nlp.ner(preprocess_text(question_example)))\n",
    "nlp.ner(preprocess_text(question_example))"
   ]
  },
  {
   "cell_type": "code",
   "execution_count": 36,
   "metadata": {},
   "outputs": [
    {
     "data": {
      "text/plain": [
       "{'DATE': ['1939']}"
      ]
     },
     "execution_count": 36,
     "metadata": {},
     "output_type": "execute_result"
    }
   ],
   "source": [
    "filter_ner_relevant(nlp.ner(preprocess_text(response_example)))"
   ]
  },
  {
   "cell_type": "code",
   "execution_count": 39,
   "metadata": {},
   "outputs": [],
   "source": [
    "#filter_ner_relevant(nlp.ner(preprocess_text(context_example)))"
   ]
  },
  {
   "cell_type": "code",
   "execution_count": 40,
   "metadata": {},
   "outputs": [
    {
     "name": "stdout",
     "output_type": "stream",
     "text": [
      "{'LOCATION': ['Amazon'], 'NATIONALITY': ['English']}\n",
      "{'NATIONALITY': ['English'], 'LOCATION': ['Amazonia', 'Amazon Jungle']}\n"
     ]
    }
   ],
   "source": [
    "print(filter_ner_relevant(nlp.ner(preprocess_text('Which name is also used to describe the Amazon rainforest in English?'))))\n",
    "print(filter_ner_relevant(nlp.ner(preprocess_text('also known in English as Amazonia or the Amazon Jungle,'))))"
   ]
  },
  {
   "cell_type": "code",
   "execution_count": 41,
   "metadata": {},
   "outputs": [
    {
     "data": {
      "text/plain": [
       "{'ORGANIZATION': ['Amazon', 'Amazon Jungle', 'Amazon'],\n",
       " 'NATIONALITY': ['Portuguese',\n",
       "  'Spanish',\n",
       "  'French',\n",
       "  'Dutch',\n",
       "  'English',\n",
       "  'French'],\n",
       " 'PERSON': ['Selva Amazónica Amazonía', 'Amazoneregenwoud'],\n",
       " 'LOCATION': ['Amazonia', 'Amazonia', 'Amazon', 'South'],\n",
       " 'COUNTRY': ['America',\n",
       "  'Brazil',\n",
       "  'Peru',\n",
       "  'Colombia',\n",
       "  'Venezuela Ecuador Bolivia Guyana Suriname'],\n",
       " 'NUMBER': ['7 000 000',\n",
       "  '2 700 000',\n",
       "  '5 500 000',\n",
       "  '2 100 000',\n",
       "  'nine',\n",
       "  '60',\n",
       "  '13',\n",
       "  '10',\n",
       "  'four',\n",
       "  '390 billion',\n",
       "  '16 000']}"
      ]
     },
     "execution_count": 41,
     "metadata": {},
     "output_type": "execute_result"
    }
   ],
   "source": [
    "filter_ner_relevant(nlp.ner(preprocess_text(amazon_context_example)))"
   ]
  },
  {
   "cell_type": "code",
   "execution_count": 42,
   "metadata": {},
   "outputs": [
    {
     "name": "stdout",
     "output_type": "stream",
     "text": [
      "{'PERSON': ['Jay Z', 'Beyonce'], 'DATE': ['August of 2011']}\n",
      "{'ORGANIZATION': ['MTV']}\n"
     ]
    }
   ],
   "source": [
    "print(filter_ner_relevant(nlp.ner(preprocess_text('Jay Z and Beyonce attended which event together in August of 2011?'))))\n",
    "print(filter_ner_relevant(nlp.ner(preprocess_text('MTV Video Music Awards'))))"
   ]
  },
  {
   "cell_type": "code",
   "execution_count": 43,
   "metadata": {},
   "outputs": [
    {
     "data": {
      "text/plain": [
       "{'DATE': ['August', '2011', 'Tonight', 'the week of August 29 2011'],\n",
       " 'PERSON': ['Beyoncé', 'Beyonce'],\n",
       " 'TIME': ['evening'],\n",
       " 'DURATION': ['year'],\n",
       " 'ORGANIZATION': ['MTV', 'Twitter'],\n",
       " 'NUMBER': ['12.4 million', '8 868'],\n",
       " 'MISC': ['Guinness World Records', 'Googled'],\n",
       " 'ORDINAL': ['second', 'second']}"
      ]
     },
     "execution_count": 43,
     "metadata": {},
     "output_type": "execute_result"
    }
   ],
   "source": [
    "filter_ner_relevant(nlp.ner(preprocess_text(beyonce_context)))"
   ]
  },
  {
   "cell_type": "code",
   "execution_count": null,
   "metadata": {},
   "outputs": [],
   "source": [
    "#example_tosend = preprocess_text(example)\n",
    "#result = nlp.ner(example_tosend)"
   ]
  },
  {
   "cell_type": "code",
   "execution_count": null,
   "metadata": {},
   "outputs": [],
   "source": [
    "#print(result)"
   ]
  },
  {
   "cell_type": "code",
   "execution_count": null,
   "metadata": {},
   "outputs": [],
   "source": [
    "#filter_ner_relevant(result)"
   ]
  },
  {
   "cell_type": "markdown",
   "metadata": {},
   "source": [
    "## Spacy NER"
   ]
  },
  {
   "cell_type": "code",
   "execution_count": 44,
   "metadata": {},
   "outputs": [],
   "source": [
    "import spacy\n",
    "nlp_spacy = spacy.load(\"en_core_web_sm\")"
   ]
  },
  {
   "cell_type": "code",
   "execution_count": 45,
   "metadata": {},
   "outputs": [
    {
     "data": {
      "text/plain": [
       "'Buildings, airports, highways, bridges, etc.'"
      ]
     },
     "execution_count": 45,
     "metadata": {},
     "output_type": "execute_result"
    }
   ],
   "source": [
    "spacy.explain('FAC')"
   ]
  },
  {
   "cell_type": "code",
   "execution_count": 46,
   "metadata": {},
   "outputs": [
    {
     "data": {
      "text/html": [
       "<span class=\"tex2jax_ignore\"><div class=\"entities\" style=\"line-height: 2.5; direction: ltr\">The popular neighborhood known as \n",
       "<mark class=\"entity\" style=\"background: #ff9561; padding: 0.45em 0.6em; margin: 0 0.25em; line-height: 1; border-radius: 0.35em;\">\n",
       "    the Tower District\n",
       "    <span style=\"font-size: 0.8em; font-weight: bold; line-height: 1; border-radius: 0.35em; text-transform: uppercase; vertical-align: middle; margin-left: 0.5rem\">LOC</span>\n",
       "</mark>\n",
       " is centered around the historic \n",
       "<mark class=\"entity\" style=\"background: #ddd; padding: 0.45em 0.6em; margin: 0 0.25em; line-height: 1; border-radius: 0.35em;\">\n",
       "    Tower Theatre\n",
       "    <span style=\"font-size: 0.8em; font-weight: bold; line-height: 1; border-radius: 0.35em; text-transform: uppercase; vertical-align: middle; margin-left: 0.5rem\">FAC</span>\n",
       "</mark>\n",
       ", which is included on \n",
       "<mark class=\"entity\" style=\"background: #7aecec; padding: 0.45em 0.6em; margin: 0 0.25em; line-height: 1; border-radius: 0.35em;\">\n",
       "    the National List of Historic Places\n",
       "    <span style=\"font-size: 0.8em; font-weight: bold; line-height: 1; border-radius: 0.35em; text-transform: uppercase; vertical-align: middle; margin-left: 0.5rem\">ORG</span>\n",
       "</mark>\n",
       ". The theater was built in \n",
       "<mark class=\"entity\" style=\"background: #bfe1d9; padding: 0.45em 0.6em; margin: 0 0.25em; line-height: 1; border-radius: 0.35em;\">\n",
       "    1939\n",
       "    <span style=\"font-size: 0.8em; font-weight: bold; line-height: 1; border-radius: 0.35em; text-transform: uppercase; vertical-align: middle; margin-left: 0.5rem\">DATE</span>\n",
       "</mark>\n",
       " and is at Olive and Wishon Avenues in the heart of \n",
       "<mark class=\"entity\" style=\"background: #ddd; padding: 0.45em 0.6em; margin: 0 0.25em; line-height: 1; border-radius: 0.35em;\">\n",
       "    the Tower District\n",
       "    <span style=\"font-size: 0.8em; font-weight: bold; line-height: 1; border-radius: 0.35em; text-transform: uppercase; vertical-align: middle; margin-left: 0.5rem\">FAC</span>\n",
       "</mark>\n",
       ". (The name of the theater refers to a well-known landmark water tower, which is actually in another nearby area). \n",
       "<mark class=\"entity\" style=\"background: #ddd; padding: 0.45em 0.6em; margin: 0 0.25em; line-height: 1; border-radius: 0.35em;\">\n",
       "    The Tower District\n",
       "    <span style=\"font-size: 0.8em; font-weight: bold; line-height: 1; border-radius: 0.35em; text-transform: uppercase; vertical-align: middle; margin-left: 0.5rem\">FAC</span>\n",
       "</mark>\n",
       " neighborhood is just north of downtown \n",
       "<mark class=\"entity\" style=\"background: #ffeb80; padding: 0.45em 0.6em; margin: 0 0.25em; line-height: 1; border-radius: 0.35em;\">\n",
       "    Fresno\n",
       "    <span style=\"font-size: 0.8em; font-weight: bold; line-height: 1; border-radius: 0.35em; text-transform: uppercase; vertical-align: middle; margin-left: 0.5rem\">EVENT</span>\n",
       "</mark>\n",
       " proper, and \n",
       "<mark class=\"entity\" style=\"background: #e4e7d2; padding: 0.45em 0.6em; margin: 0 0.25em; line-height: 1; border-radius: 0.35em;\">\n",
       "    one-half mile\n",
       "    <span style=\"font-size: 0.8em; font-weight: bold; line-height: 1; border-radius: 0.35em; text-transform: uppercase; vertical-align: middle; margin-left: 0.5rem\">QUANTITY</span>\n",
       "</mark>\n",
       " south of \n",
       "<mark class=\"entity\" style=\"background: #7aecec; padding: 0.45em 0.6em; margin: 0 0.25em; line-height: 1; border-radius: 0.35em;\">\n",
       "    Fresno City College\n",
       "    <span style=\"font-size: 0.8em; font-weight: bold; line-height: 1; border-radius: 0.35em; text-transform: uppercase; vertical-align: middle; margin-left: 0.5rem\">ORG</span>\n",
       "</mark>\n",
       ". Although the neighborhood was known as a residential area prior, the early commercial establishments of \n",
       "<mark class=\"entity\" style=\"background: #ff9561; padding: 0.45em 0.6em; margin: 0 0.25em; line-height: 1; border-radius: 0.35em;\">\n",
       "    the Tower District\n",
       "    <span style=\"font-size: 0.8em; font-weight: bold; line-height: 1; border-radius: 0.35em; text-transform: uppercase; vertical-align: middle; margin-left: 0.5rem\">LOC</span>\n",
       "</mark>\n",
       " began with small shops and services that flocked to the area shortly after \n",
       "<mark class=\"entity\" style=\"background: #ffeb80; padding: 0.45em 0.6em; margin: 0 0.25em; line-height: 1; border-radius: 0.35em;\">\n",
       "    World War II\n",
       "    <span style=\"font-size: 0.8em; font-weight: bold; line-height: 1; border-radius: 0.35em; text-transform: uppercase; vertical-align: middle; margin-left: 0.5rem\">EVENT</span>\n",
       "</mark>\n",
       ". The character of small local businesses largely remains \n",
       "<mark class=\"entity\" style=\"background: #bfe1d9; padding: 0.45em 0.6em; margin: 0 0.25em; line-height: 1; border-radius: 0.35em;\">\n",
       "    today\n",
       "    <span style=\"font-size: 0.8em; font-weight: bold; line-height: 1; border-radius: 0.35em; text-transform: uppercase; vertical-align: middle; margin-left: 0.5rem\">DATE</span>\n",
       "</mark>\n",
       ". To some extent, the businesses of \n",
       "<mark class=\"entity\" style=\"background: #ff9561; padding: 0.45em 0.6em; margin: 0 0.25em; line-height: 1; border-radius: 0.35em;\">\n",
       "    the Tower District\n",
       "    <span style=\"font-size: 0.8em; font-weight: bold; line-height: 1; border-radius: 0.35em; text-transform: uppercase; vertical-align: middle; margin-left: 0.5rem\">LOC</span>\n",
       "</mark>\n",
       " were developed due to the proximity of the original \n",
       "<mark class=\"entity\" style=\"background: #7aecec; padding: 0.45em 0.6em; margin: 0 0.25em; line-height: 1; border-radius: 0.35em;\">\n",
       "    Fresno Normal School\n",
       "    <span style=\"font-size: 0.8em; font-weight: bold; line-height: 1; border-radius: 0.35em; text-transform: uppercase; vertical-align: middle; margin-left: 0.5rem\">ORG</span>\n",
       "</mark>\n",
       ", (later renamed \n",
       "<mark class=\"entity\" style=\"background: #7aecec; padding: 0.45em 0.6em; margin: 0 0.25em; line-height: 1; border-radius: 0.35em;\">\n",
       "    California State University at Fresno\n",
       "    <span style=\"font-size: 0.8em; font-weight: bold; line-height: 1; border-radius: 0.35em; text-transform: uppercase; vertical-align: middle; margin-left: 0.5rem\">ORG</span>\n",
       "</mark>\n",
       "). In \n",
       "<mark class=\"entity\" style=\"background: #bfe1d9; padding: 0.45em 0.6em; margin: 0 0.25em; line-height: 1; border-radius: 0.35em;\">\n",
       "    1916\n",
       "    <span style=\"font-size: 0.8em; font-weight: bold; line-height: 1; border-radius: 0.35em; text-transform: uppercase; vertical-align: middle; margin-left: 0.5rem\">DATE</span>\n",
       "</mark>\n",
       " the college moved to what is now the site of \n",
       "<mark class=\"entity\" style=\"background: #7aecec; padding: 0.45em 0.6em; margin: 0 0.25em; line-height: 1; border-radius: 0.35em;\">\n",
       "    Fresno City College\n",
       "    <span style=\"font-size: 0.8em; font-weight: bold; line-height: 1; border-radius: 0.35em; text-transform: uppercase; vertical-align: middle; margin-left: 0.5rem\">ORG</span>\n",
       "</mark>\n",
       " \n",
       "<mark class=\"entity\" style=\"background: #e4e7d2; padding: 0.45em 0.6em; margin: 0 0.25em; line-height: 1; border-radius: 0.35em;\">\n",
       "    one-half mile\n",
       "    <span style=\"font-size: 0.8em; font-weight: bold; line-height: 1; border-radius: 0.35em; text-transform: uppercase; vertical-align: middle; margin-left: 0.5rem\">QUANTITY</span>\n",
       "</mark>\n",
       " north of \n",
       "<mark class=\"entity\" style=\"background: #ff9561; padding: 0.45em 0.6em; margin: 0 0.25em; line-height: 1; border-radius: 0.35em;\">\n",
       "    the Tower District\n",
       "    <span style=\"font-size: 0.8em; font-weight: bold; line-height: 1; border-radius: 0.35em; text-transform: uppercase; vertical-align: middle; margin-left: 0.5rem\">LOC</span>\n",
       "</mark>\n",
       ".</div></span>"
      ],
      "text/plain": [
       "<IPython.core.display.HTML object>"
      ]
     },
     "metadata": {},
     "output_type": "display_data"
    }
   ],
   "source": [
    "spacy.displacy.render(nlp_spacy(context_example), style='ent', jupyter=True)"
   ]
  },
  {
   "cell_type": "code",
   "execution_count": 47,
   "metadata": {},
   "outputs": [
    {
     "data": {
      "text/html": [
       "<span class=\"tex2jax_ignore\"><div class=\"entities\" style=\"line-height: 2.5; direction: ltr\">The \n",
       "<mark class=\"entity\" style=\"background: #7aecec; padding: 0.45em 0.6em; margin: 0 0.25em; line-height: 1; border-radius: 0.35em;\">\n",
       "    Amazon\n",
       "    <span style=\"font-size: 0.8em; font-weight: bold; line-height: 1; border-radius: 0.35em; text-transform: uppercase; vertical-align: middle; margin-left: 0.5rem\">ORG</span>\n",
       "</mark>\n",
       " rainforest (\n",
       "<mark class=\"entity\" style=\"background: #c887fb; padding: 0.45em 0.6em; margin: 0 0.25em; line-height: 1; border-radius: 0.35em;\">\n",
       "    Portuguese\n",
       "    <span style=\"font-size: 0.8em; font-weight: bold; line-height: 1; border-radius: 0.35em; text-transform: uppercase; vertical-align: middle; margin-left: 0.5rem\">NORP</span>\n",
       "</mark>\n",
       ": Floresta \n",
       "<mark class=\"entity\" style=\"background: #feca74; padding: 0.45em 0.6em; margin: 0 0.25em; line-height: 1; border-radius: 0.35em;\">\n",
       "    Amazônica\n",
       "    <span style=\"font-size: 0.8em; font-weight: bold; line-height: 1; border-radius: 0.35em; text-transform: uppercase; vertical-align: middle; margin-left: 0.5rem\">GPE</span>\n",
       "</mark>\n",
       " or \n",
       "<mark class=\"entity\" style=\"background: #feca74; padding: 0.45em 0.6em; margin: 0 0.25em; line-height: 1; border-radius: 0.35em;\">\n",
       "    Amazônia\n",
       "    <span style=\"font-size: 0.8em; font-weight: bold; line-height: 1; border-radius: 0.35em; text-transform: uppercase; vertical-align: middle; margin-left: 0.5rem\">GPE</span>\n",
       "</mark>\n",
       "; \n",
       "<mark class=\"entity\" style=\"background: #c887fb; padding: 0.45em 0.6em; margin: 0 0.25em; line-height: 1; border-radius: 0.35em;\">\n",
       "    Spanish\n",
       "    <span style=\"font-size: 0.8em; font-weight: bold; line-height: 1; border-radius: 0.35em; text-transform: uppercase; vertical-align: middle; margin-left: 0.5rem\">NORP</span>\n",
       "</mark>\n",
       ": \n",
       "<mark class=\"entity\" style=\"background: #7aecec; padding: 0.45em 0.6em; margin: 0 0.25em; line-height: 1; border-radius: 0.35em;\">\n",
       "    Selva Amazónica\n",
       "    <span style=\"font-size: 0.8em; font-weight: bold; line-height: 1; border-radius: 0.35em; text-transform: uppercase; vertical-align: middle; margin-left: 0.5rem\">ORG</span>\n",
       "</mark>\n",
       ", Amazonía or usually \n",
       "<mark class=\"entity\" style=\"background: #feca74; padding: 0.45em 0.6em; margin: 0 0.25em; line-height: 1; border-radius: 0.35em;\">\n",
       "    Amazonia\n",
       "    <span style=\"font-size: 0.8em; font-weight: bold; line-height: 1; border-radius: 0.35em; text-transform: uppercase; vertical-align: middle; margin-left: 0.5rem\">GPE</span>\n",
       "</mark>\n",
       "; \n",
       "<mark class=\"entity\" style=\"background: #c887fb; padding: 0.45em 0.6em; margin: 0 0.25em; line-height: 1; border-radius: 0.35em;\">\n",
       "    French\n",
       "    <span style=\"font-size: 0.8em; font-weight: bold; line-height: 1; border-radius: 0.35em; text-transform: uppercase; vertical-align: middle; margin-left: 0.5rem\">NORP</span>\n",
       "</mark>\n",
       ": \n",
       "<mark class=\"entity\" style=\"background: #aa9cfc; padding: 0.45em 0.6em; margin: 0 0.25em; line-height: 1; border-radius: 0.35em;\">\n",
       "    Forêt\n",
       "    <span style=\"font-size: 0.8em; font-weight: bold; line-height: 1; border-radius: 0.35em; text-transform: uppercase; vertical-align: middle; margin-left: 0.5rem\">PERSON</span>\n",
       "</mark>\n",
       " amazonienne; \n",
       "<mark class=\"entity\" style=\"background: #c887fb; padding: 0.45em 0.6em; margin: 0 0.25em; line-height: 1; border-radius: 0.35em;\">\n",
       "    Dutch\n",
       "    <span style=\"font-size: 0.8em; font-weight: bold; line-height: 1; border-radius: 0.35em; text-transform: uppercase; vertical-align: middle; margin-left: 0.5rem\">NORP</span>\n",
       "</mark>\n",
       ": \n",
       "<mark class=\"entity\" style=\"background: #aa9cfc; padding: 0.45em 0.6em; margin: 0 0.25em; line-height: 1; border-radius: 0.35em;\">\n",
       "    Amazoneregenwoud\n",
       "    <span style=\"font-size: 0.8em; font-weight: bold; line-height: 1; border-radius: 0.35em; text-transform: uppercase; vertical-align: middle; margin-left: 0.5rem\">PERSON</span>\n",
       "</mark>\n",
       "), also known in \n",
       "<mark class=\"entity\" style=\"background: #ff8197; padding: 0.45em 0.6em; margin: 0 0.25em; line-height: 1; border-radius: 0.35em;\">\n",
       "    English\n",
       "    <span style=\"font-size: 0.8em; font-weight: bold; line-height: 1; border-radius: 0.35em; text-transform: uppercase; vertical-align: middle; margin-left: 0.5rem\">LANGUAGE</span>\n",
       "</mark>\n",
       " as \n",
       "<mark class=\"entity\" style=\"background: #feca74; padding: 0.45em 0.6em; margin: 0 0.25em; line-height: 1; border-radius: 0.35em;\">\n",
       "    Amazonia\n",
       "    <span style=\"font-size: 0.8em; font-weight: bold; line-height: 1; border-radius: 0.35em; text-transform: uppercase; vertical-align: middle; margin-left: 0.5rem\">GPE</span>\n",
       "</mark>\n",
       " or \n",
       "<mark class=\"entity\" style=\"background: #bfeeb7; padding: 0.45em 0.6em; margin: 0 0.25em; line-height: 1; border-radius: 0.35em;\">\n",
       "    the Amazon Jungle\n",
       "    <span style=\"font-size: 0.8em; font-weight: bold; line-height: 1; border-radius: 0.35em; text-transform: uppercase; vertical-align: middle; margin-left: 0.5rem\">PRODUCT</span>\n",
       "</mark>\n",
       ", is a moist broadleaf forest that covers most of the \n",
       "<mark class=\"entity\" style=\"background: #7aecec; padding: 0.45em 0.6em; margin: 0 0.25em; line-height: 1; border-radius: 0.35em;\">\n",
       "    Amazon\n",
       "    <span style=\"font-size: 0.8em; font-weight: bold; line-height: 1; border-radius: 0.35em; text-transform: uppercase; vertical-align: middle; margin-left: 0.5rem\">ORG</span>\n",
       "</mark>\n",
       " basin of \n",
       "<mark class=\"entity\" style=\"background: #ff9561; padding: 0.45em 0.6em; margin: 0 0.25em; line-height: 1; border-radius: 0.35em;\">\n",
       "    South America\n",
       "    <span style=\"font-size: 0.8em; font-weight: bold; line-height: 1; border-radius: 0.35em; text-transform: uppercase; vertical-align: middle; margin-left: 0.5rem\">LOC</span>\n",
       "</mark>\n",
       ". This basin encompasses \n",
       "<mark class=\"entity\" style=\"background: #e4e7d2; padding: 0.45em 0.6em; margin: 0 0.25em; line-height: 1; border-radius: 0.35em;\">\n",
       "    7,000,000 square kilometres\n",
       "    <span style=\"font-size: 0.8em; font-weight: bold; line-height: 1; border-radius: 0.35em; text-transform: uppercase; vertical-align: middle; margin-left: 0.5rem\">QUANTITY</span>\n",
       "</mark>\n",
       " (\n",
       "<mark class=\"entity\" style=\"background: #e4e7d2; padding: 0.45em 0.6em; margin: 0 0.25em; line-height: 1; border-radius: 0.35em;\">\n",
       "    2,700,000\n",
       "    <span style=\"font-size: 0.8em; font-weight: bold; line-height: 1; border-radius: 0.35em; text-transform: uppercase; vertical-align: middle; margin-left: 0.5rem\">CARDINAL</span>\n",
       "</mark>\n",
       " sq mi), of which \n",
       "<mark class=\"entity\" style=\"background: #e4e7d2; padding: 0.45em 0.6em; margin: 0 0.25em; line-height: 1; border-radius: 0.35em;\">\n",
       "    5,500,000 square kilometres\n",
       "    <span style=\"font-size: 0.8em; font-weight: bold; line-height: 1; border-radius: 0.35em; text-transform: uppercase; vertical-align: middle; margin-left: 0.5rem\">QUANTITY</span>\n",
       "</mark>\n",
       " (\n",
       "<mark class=\"entity\" style=\"background: #e4e7d2; padding: 0.45em 0.6em; margin: 0 0.25em; line-height: 1; border-radius: 0.35em;\">\n",
       "    2,100,000\n",
       "    <span style=\"font-size: 0.8em; font-weight: bold; line-height: 1; border-radius: 0.35em; text-transform: uppercase; vertical-align: middle; margin-left: 0.5rem\">CARDINAL</span>\n",
       "</mark>\n",
       " sq mi) are covered by the rainforest. This region includes territory belonging to \n",
       "<mark class=\"entity\" style=\"background: #e4e7d2; padding: 0.45em 0.6em; margin: 0 0.25em; line-height: 1; border-radius: 0.35em;\">\n",
       "    nine\n",
       "    <span style=\"font-size: 0.8em; font-weight: bold; line-height: 1; border-radius: 0.35em; text-transform: uppercase; vertical-align: middle; margin-left: 0.5rem\">CARDINAL</span>\n",
       "</mark>\n",
       " nations. The majority of the forest is contained within \n",
       "<mark class=\"entity\" style=\"background: #feca74; padding: 0.45em 0.6em; margin: 0 0.25em; line-height: 1; border-radius: 0.35em;\">\n",
       "    Brazil\n",
       "    <span style=\"font-size: 0.8em; font-weight: bold; line-height: 1; border-radius: 0.35em; text-transform: uppercase; vertical-align: middle; margin-left: 0.5rem\">GPE</span>\n",
       "</mark>\n",
       ", with \n",
       "<mark class=\"entity\" style=\"background: #e4e7d2; padding: 0.45em 0.6em; margin: 0 0.25em; line-height: 1; border-radius: 0.35em;\">\n",
       "    60%\n",
       "    <span style=\"font-size: 0.8em; font-weight: bold; line-height: 1; border-radius: 0.35em; text-transform: uppercase; vertical-align: middle; margin-left: 0.5rem\">PERCENT</span>\n",
       "</mark>\n",
       " of the rainforest, followed by \n",
       "<mark class=\"entity\" style=\"background: #feca74; padding: 0.45em 0.6em; margin: 0 0.25em; line-height: 1; border-radius: 0.35em;\">\n",
       "    Peru\n",
       "    <span style=\"font-size: 0.8em; font-weight: bold; line-height: 1; border-radius: 0.35em; text-transform: uppercase; vertical-align: middle; margin-left: 0.5rem\">GPE</span>\n",
       "</mark>\n",
       " with \n",
       "<mark class=\"entity\" style=\"background: #e4e7d2; padding: 0.45em 0.6em; margin: 0 0.25em; line-height: 1; border-radius: 0.35em;\">\n",
       "    13%\n",
       "    <span style=\"font-size: 0.8em; font-weight: bold; line-height: 1; border-radius: 0.35em; text-transform: uppercase; vertical-align: middle; margin-left: 0.5rem\">PERCENT</span>\n",
       "</mark>\n",
       ", \n",
       "<mark class=\"entity\" style=\"background: #feca74; padding: 0.45em 0.6em; margin: 0 0.25em; line-height: 1; border-radius: 0.35em;\">\n",
       "    Colombia\n",
       "    <span style=\"font-size: 0.8em; font-weight: bold; line-height: 1; border-radius: 0.35em; text-transform: uppercase; vertical-align: middle; margin-left: 0.5rem\">GPE</span>\n",
       "</mark>\n",
       " with \n",
       "<mark class=\"entity\" style=\"background: #e4e7d2; padding: 0.45em 0.6em; margin: 0 0.25em; line-height: 1; border-radius: 0.35em;\">\n",
       "    10%\n",
       "    <span style=\"font-size: 0.8em; font-weight: bold; line-height: 1; border-radius: 0.35em; text-transform: uppercase; vertical-align: middle; margin-left: 0.5rem\">PERCENT</span>\n",
       "</mark>\n",
       ", and with minor amounts in \n",
       "<mark class=\"entity\" style=\"background: #feca74; padding: 0.45em 0.6em; margin: 0 0.25em; line-height: 1; border-radius: 0.35em;\">\n",
       "    Venezuela\n",
       "    <span style=\"font-size: 0.8em; font-weight: bold; line-height: 1; border-radius: 0.35em; text-transform: uppercase; vertical-align: middle; margin-left: 0.5rem\">GPE</span>\n",
       "</mark>\n",
       ", \n",
       "<mark class=\"entity\" style=\"background: #feca74; padding: 0.45em 0.6em; margin: 0 0.25em; line-height: 1; border-radius: 0.35em;\">\n",
       "    Ecuador\n",
       "    <span style=\"font-size: 0.8em; font-weight: bold; line-height: 1; border-radius: 0.35em; text-transform: uppercase; vertical-align: middle; margin-left: 0.5rem\">GPE</span>\n",
       "</mark>\n",
       ", \n",
       "<mark class=\"entity\" style=\"background: #feca74; padding: 0.45em 0.6em; margin: 0 0.25em; line-height: 1; border-radius: 0.35em;\">\n",
       "    Bolivia\n",
       "    <span style=\"font-size: 0.8em; font-weight: bold; line-height: 1; border-radius: 0.35em; text-transform: uppercase; vertical-align: middle; margin-left: 0.5rem\">GPE</span>\n",
       "</mark>\n",
       ", \n",
       "<mark class=\"entity\" style=\"background: #feca74; padding: 0.45em 0.6em; margin: 0 0.25em; line-height: 1; border-radius: 0.35em;\">\n",
       "    Guyana\n",
       "    <span style=\"font-size: 0.8em; font-weight: bold; line-height: 1; border-radius: 0.35em; text-transform: uppercase; vertical-align: middle; margin-left: 0.5rem\">GPE</span>\n",
       "</mark>\n",
       ", \n",
       "<mark class=\"entity\" style=\"background: #feca74; padding: 0.45em 0.6em; margin: 0 0.25em; line-height: 1; border-radius: 0.35em;\">\n",
       "    Suriname\n",
       "    <span style=\"font-size: 0.8em; font-weight: bold; line-height: 1; border-radius: 0.35em; text-transform: uppercase; vertical-align: middle; margin-left: 0.5rem\">GPE</span>\n",
       "</mark>\n",
       " and \n",
       "<mark class=\"entity\" style=\"background: #c887fb; padding: 0.45em 0.6em; margin: 0 0.25em; line-height: 1; border-radius: 0.35em;\">\n",
       "    French\n",
       "    <span style=\"font-size: 0.8em; font-weight: bold; line-height: 1; border-radius: 0.35em; text-transform: uppercase; vertical-align: middle; margin-left: 0.5rem\">NORP</span>\n",
       "</mark>\n",
       " Guiana. States or departments in \n",
       "<mark class=\"entity\" style=\"background: #e4e7d2; padding: 0.45em 0.6em; margin: 0 0.25em; line-height: 1; border-radius: 0.35em;\">\n",
       "    four\n",
       "    <span style=\"font-size: 0.8em; font-weight: bold; line-height: 1; border-radius: 0.35em; text-transform: uppercase; vertical-align: middle; margin-left: 0.5rem\">CARDINAL</span>\n",
       "</mark>\n",
       " nations contain '\n",
       "<mark class=\"entity\" style=\"background: #feca74; padding: 0.45em 0.6em; margin: 0 0.25em; line-height: 1; border-radius: 0.35em;\">\n",
       "    Amazonas\n",
       "    <span style=\"font-size: 0.8em; font-weight: bold; line-height: 1; border-radius: 0.35em; text-transform: uppercase; vertical-align: middle; margin-left: 0.5rem\">GPE</span>\n",
       "</mark>\n",
       "' in their names. The \n",
       "<mark class=\"entity\" style=\"background: #7aecec; padding: 0.45em 0.6em; margin: 0 0.25em; line-height: 1; border-radius: 0.35em;\">\n",
       "    Amazon\n",
       "    <span style=\"font-size: 0.8em; font-weight: bold; line-height: 1; border-radius: 0.35em; text-transform: uppercase; vertical-align: middle; margin-left: 0.5rem\">ORG</span>\n",
       "</mark>\n",
       " represents \n",
       "<mark class=\"entity\" style=\"background: #e4e7d2; padding: 0.45em 0.6em; margin: 0 0.25em; line-height: 1; border-radius: 0.35em;\">\n",
       "    over half\n",
       "    <span style=\"font-size: 0.8em; font-weight: bold; line-height: 1; border-radius: 0.35em; text-transform: uppercase; vertical-align: middle; margin-left: 0.5rem\">CARDINAL</span>\n",
       "</mark>\n",
       " of the planet's remaining rainforests, and comprises the largest and most biodiverse tract of tropical rainforest in the world, with \n",
       "<mark class=\"entity\" style=\"background: #e4e7d2; padding: 0.45em 0.6em; margin: 0 0.25em; line-height: 1; border-radius: 0.35em;\">\n",
       "    an estimated 390 billion\n",
       "    <span style=\"font-size: 0.8em; font-weight: bold; line-height: 1; border-radius: 0.35em; text-transform: uppercase; vertical-align: middle; margin-left: 0.5rem\">CARDINAL</span>\n",
       "</mark>\n",
       " individual trees divided into \n",
       "<mark class=\"entity\" style=\"background: #e4e7d2; padding: 0.45em 0.6em; margin: 0 0.25em; line-height: 1; border-radius: 0.35em;\">\n",
       "    16,000\n",
       "    <span style=\"font-size: 0.8em; font-weight: bold; line-height: 1; border-radius: 0.35em; text-transform: uppercase; vertical-align: middle; margin-left: 0.5rem\">CARDINAL</span>\n",
       "</mark>\n",
       " species.</div></span>"
      ],
      "text/plain": [
       "<IPython.core.display.HTML object>"
      ]
     },
     "metadata": {},
     "output_type": "display_data"
    }
   ],
   "source": [
    "spacy.displacy.render(nlp_spacy(amazon_context_example), style='ent', jupyter=True)"
   ]
  },
  {
   "cell_type": "code",
   "execution_count": 48,
   "metadata": {},
   "outputs": [
    {
     "data": {
      "text/html": [
       "<span class=\"tex2jax_ignore\"><div class=\"entities\" style=\"line-height: 2.5; direction: ltr\">In \n",
       "<mark class=\"entity\" style=\"background: #bfe1d9; padding: 0.45em 0.6em; margin: 0 0.25em; line-height: 1; border-radius: 0.35em;\">\n",
       "    August\n",
       "    <span style=\"font-size: 0.8em; font-weight: bold; line-height: 1; border-radius: 0.35em; text-transform: uppercase; vertical-align: middle; margin-left: 0.5rem\">DATE</span>\n",
       "</mark>\n",
       ", the couple attended the \n",
       "<mark class=\"entity\" style=\"background: #bfe1d9; padding: 0.45em 0.6em; margin: 0 0.25em; line-height: 1; border-radius: 0.35em;\">\n",
       "    2011\n",
       "    <span style=\"font-size: 0.8em; font-weight: bold; line-height: 1; border-radius: 0.35em; text-transform: uppercase; vertical-align: middle; margin-left: 0.5rem\">DATE</span>\n",
       "</mark>\n",
       " \n",
       "<mark class=\"entity\" style=\"background: #ffeb80; padding: 0.45em 0.6em; margin: 0 0.25em; line-height: 1; border-radius: 0.35em;\">\n",
       "    MTV Video Music Awards\n",
       "    <span style=\"font-size: 0.8em; font-weight: bold; line-height: 1; border-radius: 0.35em; text-transform: uppercase; vertical-align: middle; margin-left: 0.5rem\">EVENT</span>\n",
       "</mark>\n",
       ", at which \n",
       "<mark class=\"entity\" style=\"background: #aa9cfc; padding: 0.45em 0.6em; margin: 0 0.25em; line-height: 1; border-radius: 0.35em;\">\n",
       "    Beyoncé\n",
       "    <span style=\"font-size: 0.8em; font-weight: bold; line-height: 1; border-radius: 0.35em; text-transform: uppercase; vertical-align: middle; margin-left: 0.5rem\">PERSON</span>\n",
       "</mark>\n",
       " performed &quot;\n",
       "<mark class=\"entity\" style=\"background: #f0d0ff; padding: 0.45em 0.6em; margin: 0 0.25em; line-height: 1; border-radius: 0.35em;\">\n",
       "    Love on Top\n",
       "    <span style=\"font-size: 0.8em; font-weight: bold; line-height: 1; border-radius: 0.35em; text-transform: uppercase; vertical-align: middle; margin-left: 0.5rem\">WORK_OF_ART</span>\n",
       "</mark>\n",
       "&quot; and started the performance saying &quot;\n",
       "<mark class=\"entity\" style=\"background: #f0d0ff; padding: 0.45em 0.6em; margin: 0 0.25em; line-height: 1; border-radius: 0.35em;\">\n",
       "    Tonight\n",
       "    <span style=\"font-size: 0.8em; font-weight: bold; line-height: 1; border-radius: 0.35em; text-transform: uppercase; vertical-align: middle; margin-left: 0.5rem\">WORK_OF_ART</span>\n",
       "</mark>\n",
       " I want you to stand up on your feet, I want you to feel the love that's growing inside of me&quot;. At the end of the performance, she dropped her microphone, unbuttoned her blazer and rubbed her stomach, confirming her pregnancy she had alluded to \n",
       "<mark class=\"entity\" style=\"background: #bfe1d9; padding: 0.45em 0.6em; margin: 0 0.25em; line-height: 1; border-radius: 0.35em;\">\n",
       "    earlier in the evening\n",
       "    <span style=\"font-size: 0.8em; font-weight: bold; line-height: 1; border-radius: 0.35em; text-transform: uppercase; vertical-align: middle; margin-left: 0.5rem\">TIME</span>\n",
       "</mark>\n",
       ". Her appearance helped that \n",
       "<mark class=\"entity\" style=\"background: #bfe1d9; padding: 0.45em 0.6em; margin: 0 0.25em; line-height: 1; border-radius: 0.35em;\">\n",
       "    year\n",
       "    <span style=\"font-size: 0.8em; font-weight: bold; line-height: 1; border-radius: 0.35em; text-transform: uppercase; vertical-align: middle; margin-left: 0.5rem\">DATE</span>\n",
       "</mark>\n",
       "'s \n",
       "<mark class=\"entity\" style=\"background: #7aecec; padding: 0.45em 0.6em; margin: 0 0.25em; line-height: 1; border-radius: 0.35em;\">\n",
       "    MTV Video Music Awards\n",
       "    <span style=\"font-size: 0.8em; font-weight: bold; line-height: 1; border-radius: 0.35em; text-transform: uppercase; vertical-align: middle; margin-left: 0.5rem\">ORG</span>\n",
       "</mark>\n",
       " become the most-watched broadcast in \n",
       "<mark class=\"entity\" style=\"background: #7aecec; padding: 0.45em 0.6em; margin: 0 0.25em; line-height: 1; border-radius: 0.35em;\">\n",
       "    MTV\n",
       "    <span style=\"font-size: 0.8em; font-weight: bold; line-height: 1; border-radius: 0.35em; text-transform: uppercase; vertical-align: middle; margin-left: 0.5rem\">ORG</span>\n",
       "</mark>\n",
       " history, pulling in \n",
       "<mark class=\"entity\" style=\"background: #e4e7d2; padding: 0.45em 0.6em; margin: 0 0.25em; line-height: 1; border-radius: 0.35em;\">\n",
       "    12.4 million\n",
       "    <span style=\"font-size: 0.8em; font-weight: bold; line-height: 1; border-radius: 0.35em; text-transform: uppercase; vertical-align: middle; margin-left: 0.5rem\">CARDINAL</span>\n",
       "</mark>\n",
       " viewers; the announcement was listed in \n",
       "<mark class=\"entity\" style=\"background: #7aecec; padding: 0.45em 0.6em; margin: 0 0.25em; line-height: 1; border-radius: 0.35em;\">\n",
       "    Guinness World Records\n",
       "    <span style=\"font-size: 0.8em; font-weight: bold; line-height: 1; border-radius: 0.35em; text-transform: uppercase; vertical-align: middle; margin-left: 0.5rem\">ORG</span>\n",
       "</mark>\n",
       " for &quot;most tweets per \n",
       "<mark class=\"entity\" style=\"background: #e4e7d2; padding: 0.45em 0.6em; margin: 0 0.25em; line-height: 1; border-radius: 0.35em;\">\n",
       "    second\n",
       "    <span style=\"font-size: 0.8em; font-weight: bold; line-height: 1; border-radius: 0.35em; text-transform: uppercase; vertical-align: middle; margin-left: 0.5rem\">ORDINAL</span>\n",
       "</mark>\n",
       " recorded for a single event&quot; on \n",
       "<mark class=\"entity\" style=\"background: #7aecec; padding: 0.45em 0.6em; margin: 0 0.25em; line-height: 1; border-radius: 0.35em;\">\n",
       "    Twitter\n",
       "    <span style=\"font-size: 0.8em; font-weight: bold; line-height: 1; border-radius: 0.35em; text-transform: uppercase; vertical-align: middle; margin-left: 0.5rem\">ORG</span>\n",
       "</mark>\n",
       ", receiving \n",
       "<mark class=\"entity\" style=\"background: #e4e7d2; padding: 0.45em 0.6em; margin: 0 0.25em; line-height: 1; border-radius: 0.35em;\">\n",
       "    8,868\n",
       "    <span style=\"font-size: 0.8em; font-weight: bold; line-height: 1; border-radius: 0.35em; text-transform: uppercase; vertical-align: middle; margin-left: 0.5rem\">CARDINAL</span>\n",
       "</mark>\n",
       " tweets per \n",
       "<mark class=\"entity\" style=\"background: #e4e7d2; padding: 0.45em 0.6em; margin: 0 0.25em; line-height: 1; border-radius: 0.35em;\">\n",
       "    second\n",
       "    <span style=\"font-size: 0.8em; font-weight: bold; line-height: 1; border-radius: 0.35em; text-transform: uppercase; vertical-align: middle; margin-left: 0.5rem\">ORDINAL</span>\n",
       "</mark>\n",
       " and &quot;\n",
       "<mark class=\"entity\" style=\"background: #feca74; padding: 0.45em 0.6em; margin: 0 0.25em; line-height: 1; border-radius: 0.35em;\">\n",
       "    Beyonce\n",
       "    <span style=\"font-size: 0.8em; font-weight: bold; line-height: 1; border-radius: 0.35em; text-transform: uppercase; vertical-align: middle; margin-left: 0.5rem\">GPE</span>\n",
       "</mark>\n",
       " pregnant&quot; was the most \n",
       "<mark class=\"entity\" style=\"background: #aa9cfc; padding: 0.45em 0.6em; margin: 0 0.25em; line-height: 1; border-radius: 0.35em;\">\n",
       "    Googled\n",
       "    <span style=\"font-size: 0.8em; font-weight: bold; line-height: 1; border-radius: 0.35em; text-transform: uppercase; vertical-align: middle; margin-left: 0.5rem\">PERSON</span>\n",
       "</mark>\n",
       " term \n",
       "<mark class=\"entity\" style=\"background: #bfe1d9; padding: 0.45em 0.6em; margin: 0 0.25em; line-height: 1; border-radius: 0.35em;\">\n",
       "    the week of August 29, 2011\n",
       "    <span style=\"font-size: 0.8em; font-weight: bold; line-height: 1; border-radius: 0.35em; text-transform: uppercase; vertical-align: middle; margin-left: 0.5rem\">DATE</span>\n",
       "</mark>\n",
       ".</div></span>"
      ],
      "text/plain": [
       "<IPython.core.display.HTML object>"
      ]
     },
     "metadata": {},
     "output_type": "display_data"
    }
   ],
   "source": [
    "spacy.displacy.render(nlp_spacy(beyonce_context), style='ent', jupyter=True)"
   ]
  },
  {
   "cell_type": "code",
   "execution_count": 49,
   "metadata": {},
   "outputs": [],
   "source": [
    "# https://spacy.io/api/annotation#named-entities\n",
    "# https://spacy.io/usage/linguistic-features#named-entities\n",
    "# 'PERSON', 'NORP', 'FAC', 'ORG', 'GPE', 'LOC', 'PRODUCT', 'EVENT', 'WORK_OF_ART', \n",
    "# 'LAW', 'LANGUAGE', 'DATE', 'TIME', 'PERCENT', 'MONEY', 'QUANTITY', 'ORDINAL', 'CARDINAL'\n",
    "def detect_entities(nlp, text, ner_tag):\n",
    "    entities = []\n",
    "    doc = nlp(text)\n",
    "    for ent in doc.ents:\n",
    "        if ent.label_ in ner_tag:\n",
    "            entities.append(ent.text)\n",
    "    return entities"
   ]
  },
  {
   "cell_type": "code",
   "execution_count": 52,
   "metadata": {},
   "outputs": [
    {
     "name": "stdout",
     "output_type": "stream",
     "text": [
      "The popular neighborhood known as the Tower District is centered around the historic Tower Theatre, which is included on the National List of Historic Places. The theater was built in 1939 and is at Olive and Wishon Avenues in the heart of the Tower District. (The name of the theater refers to a well-known landmark water tower, which is actually in another nearby area). The Tower District neighborhood is just north of downtown Fresno proper, and one-half mile south of Fresno City College. Although the neighborhood was known as a residential area prior, the early commercial establishments of the Tower District began with small shops and services that flocked to the area shortly after World War II. The character of small local businesses largely remains today. To some extent, the businesses of the Tower District were developed due to the proximity of the original Fresno Normal School, (later renamed California State University at Fresno). In 1916 the college moved to what is now the site of Fresno City College one-half mile north of the Tower District.\n",
      "['the Tower District', 'Tower Theatre', 'the National List of Historic Places', '1939', 'the Tower District', 'The Tower District', 'Fresno', 'one-half mile', 'Fresno City College', 'the Tower District', 'World War II', 'today', 'the Tower District', 'Fresno Normal School', 'California State University at Fresno', '1916', 'Fresno City College', 'one-half mile', 'the Tower District']\n"
     ]
    }
   ],
   "source": [
    "result = detect_entities(nlp_spacy, context_example, ['PERSON', 'NORP', 'FAC', 'ORG', 'GPE', 'LOC', 'PRODUCT', 'EVENT', 'WORK_OF_ART', 'LAW', 'LANGUAGE', 'DATE', 'TIME', 'PERCENT', 'MONEY', 'QUANTITY', 'ORDINAL', 'CARDINAL'])\n",
    "print(context_example)\n",
    "print(result)"
   ]
  },
  {
   "cell_type": "code",
   "execution_count": 51,
   "metadata": {},
   "outputs": [
    {
     "name": "stdout",
     "output_type": "stream",
     "text": [
      "PERSON: []\n",
      "NORP: []\n",
      "FAC: ['Tower Theatre', 'the Tower District', 'The Tower District']\n",
      "ORG: ['the National List of Historic Places', 'Fresno City College', 'Fresno Normal School', 'California State University at Fresno', 'Fresno City College']\n",
      "GPE: []\n",
      "LOC: ['the Tower District', 'the Tower District', 'the Tower District', 'the Tower District']\n",
      "PRODUCT: []\n",
      "EVENT: ['Fresno', 'World War II']\n",
      "WORK_OF_ART: []\n",
      "LANGUAGE: []\n",
      "DATE: ['1939', 'today', '1916']\n",
      "TIME: []\n",
      "PERCENT: []\n",
      "MONEY: []\n",
      "QUANTITY: ['one-half mile', 'one-half mile']\n",
      "CARDINAL: []\n",
      "ORDINAL: []\n"
     ]
    }
   ],
   "source": [
    "people_entities = detect_entities(nlp_spacy, context_example, 'PERSON')\n",
    "print('PERSON: ' + str(people_entities))\n",
    "norp_entities = detect_entities(nlp_spacy, context_example, 'NORP')\n",
    "print('NORP: ' + str(norp_entities))\n",
    "fac_entities = detect_entities(nlp_spacy, context_example, 'FAC')\n",
    "print('FAC: ' + str(fac_entities))\n",
    "org_entities = detect_entities(nlp_spacy, context_example, 'ORG')\n",
    "print('ORG: ' + str(org_entities))\n",
    "gpe_entities = detect_entities(nlp_spacy, context_example, 'GPE')\n",
    "print('GPE: ' + str(gpe_entities))\n",
    "loc_entities = detect_entities(nlp_spacy, context_example, 'LOC')\n",
    "print('LOC: ' + str(loc_entities))\n",
    "product_entities = detect_entities(nlp_spacy, context_example, 'PRODUCT')\n",
    "print('PRODUCT: ' + str(product_entities))\n",
    "event_entities = detect_entities(nlp_spacy, context_example, 'EVENT')\n",
    "print('EVENT: ' + str(event_entities))\n",
    "workofart_entities = detect_entities(nlp_spacy, context_example, 'WORK_OF_ART')\n",
    "print('WORK_OF_ART: ' + str(workofart_entities))\n",
    "lang_entities = detect_entities(nlp_spacy, context_example, 'LANGUAGE')\n",
    "print('LANGUAGE: ' + str(lang_entities))\n",
    "date_entities = detect_entities(nlp_spacy, context_example, 'DATE')\n",
    "print('DATE: ' + str(date_entities))\n",
    "time_entities = detect_entities(nlp_spacy, context_example, 'TIME')\n",
    "print('TIME: ' + str(time_entities))\n",
    "percent_entities = detect_entities(nlp_spacy, context_example, 'PERCENT')\n",
    "print('PERCENT: ' + str(percent_entities))\n",
    "money_entities = detect_entities(nlp_spacy, context_example, 'MONEY')\n",
    "print('MONEY: ' + str(money_entities))\n",
    "quantity_entities = detect_entities(nlp_spacy, context_example, 'QUANTITY')\n",
    "print('QUANTITY: ' + str(quantity_entities))\n",
    "cardinal_entities = detect_entities(nlp_spacy, context_example, 'CARDINAL')\n",
    "print('CARDINAL: ' + str(cardinal_entities))\n",
    "ordinal_entities = detect_entities(nlp_spacy, context_example, 'ORDINAL')\n",
    "print('ORDINAL: ' + str(ordinal_entities))"
   ]
  }
 ],
 "metadata": {
  "kernelspec": {
   "display_name": "Python 3",
   "language": "python",
   "name": "python3"
  }
 },
 "nbformat": 4,
 "nbformat_minor": 2
}
